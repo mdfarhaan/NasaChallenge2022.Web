{
 "cells": [
  {
   "cell_type": "code",
   "execution_count": 1,
   "metadata": {},
   "outputs": [
    {
     "name": "stdout",
     "output_type": "stream",
     "text": [
      "Collecting PyPDF2\n",
      "  Downloading PyPDF2-2.11.0-py3-none-any.whl (220 kB)\n",
      "     ------------------------------------ 220.2/220.2 KB 747.3 kB/s eta 0:00:00\n",
      "Requirement already satisfied: typing-extensions>=3.10.0.0 in d:\\python\\lib\\site-packages (from PyPDF2) (4.3.0)\n",
      "Installing collected packages: PyPDF2\n",
      "Successfully installed PyPDF2-2.11.0\n"
     ]
    },
    {
     "name": "stderr",
     "output_type": "stream",
     "text": [
      "WARNING: You are using pip version 22.0.3; however, version 22.2.2 is available.\n",
      "You should consider upgrading via the 'D:\\PYTHON\\python.exe -m pip install --upgrade pip' command.\n"
     ]
    }
   ],
   "source": [
    "!pip install PyPDF2"
   ]
  },
  {
   "cell_type": "code",
   "execution_count": 2,
   "metadata": {},
   "outputs": [],
   "source": [
    "import PyPDF2"
   ]
  },
  {
   "cell_type": "code",
   "execution_count": 3,
   "metadata": {},
   "outputs": [],
   "source": [
    "f = open('NASA-test-pdf.pdf','rb')"
   ]
  },
  {
   "cell_type": "code",
   "execution_count": 4,
   "metadata": {},
   "outputs": [],
   "source": [
    "fileReader = PyPDF2.PdfFileReader(f)"
   ]
  },
  {
   "cell_type": "code",
   "execution_count": 5,
   "metadata": {},
   "outputs": [
    {
     "data": {
      "text/plain": [
       "124"
      ]
     },
     "execution_count": 5,
     "metadata": {},
     "output_type": "execute_result"
    }
   ],
   "source": [
    "fileReader.numPages"
   ]
  },
  {
   "cell_type": "code",
   "execution_count": 6,
   "metadata": {},
   "outputs": [
    {
     "data": {
      "text/plain": [
       "['__class__',\n",
       " '__delattr__',\n",
       " '__dict__',\n",
       " '__dir__',\n",
       " '__doc__',\n",
       " '__eq__',\n",
       " '__format__',\n",
       " '__ge__',\n",
       " '__getattribute__',\n",
       " '__gt__',\n",
       " '__hash__',\n",
       " '__init__',\n",
       " '__init_subclass__',\n",
       " '__le__',\n",
       " '__lt__',\n",
       " '__module__',\n",
       " '__ne__',\n",
       " '__new__',\n",
       " '__reduce__',\n",
       " '__reduce_ex__',\n",
       " '__repr__',\n",
       " '__setattr__',\n",
       " '__sizeof__',\n",
       " '__str__',\n",
       " '__subclasshook__',\n",
       " '__weakref__',\n",
       " '_basic_validation',\n",
       " '_build_destination',\n",
       " '_build_field',\n",
       " '_build_outline_item',\n",
       " '_check_kids',\n",
       " '_encryption',\n",
       " '_find_eof_marker',\n",
       " '_find_startxref_pos',\n",
       " '_flatten',\n",
       " '_get_indirect_object',\n",
       " '_get_named_destinations',\n",
       " '_get_num_pages',\n",
       " '_get_object_from_stream',\n",
       " '_get_outline',\n",
       " '_get_page',\n",
       " '_get_page_number_by_indirect',\n",
       " '_get_xref_issues',\n",
       " '_override_encryption',\n",
       " '_page_id2num',\n",
       " '_pairs',\n",
       " '_read_pdf15_xref_stream',\n",
       " '_read_standard_xref_table',\n",
       " '_read_xref',\n",
       " '_read_xref_other_error',\n",
       " '_read_xref_subsections',\n",
       " '_read_xref_tables_and_trailers',\n",
       " '_rebuild_xref_table',\n",
       " '_write_field',\n",
       " 'cacheGetIndirectObject',\n",
       " 'cacheIndirectObject',\n",
       " 'cache_get_indirect_object',\n",
       " 'cache_indirect_object',\n",
       " 'decode_permissions',\n",
       " 'decrypt',\n",
       " 'documentInfo',\n",
       " 'flattened_pages',\n",
       " 'getDestinationPageNumber',\n",
       " 'getDocumentInfo',\n",
       " 'getFields',\n",
       " 'getFormTextFields',\n",
       " 'getIsEncrypted',\n",
       " 'getNamedDestinations',\n",
       " 'getNumPages',\n",
       " 'getObject',\n",
       " 'getOutlines',\n",
       " 'getPage',\n",
       " 'getPageLayout',\n",
       " 'getPageMode',\n",
       " 'getPageNumber',\n",
       " 'getXmpMetadata',\n",
       " 'get_destination_page_number',\n",
       " 'get_fields',\n",
       " 'get_form_text_fields',\n",
       " 'get_object',\n",
       " 'get_page_number',\n",
       " 'isEncrypted',\n",
       " 'is_encrypted',\n",
       " 'metadata',\n",
       " 'namedDestinations',\n",
       " 'named_destinations',\n",
       " 'numPages',\n",
       " 'outline',\n",
       " 'outlines',\n",
       " 'pageLayout',\n",
       " 'pageMode',\n",
       " 'page_layout',\n",
       " 'page_mode',\n",
       " 'pages',\n",
       " 'pdf_header',\n",
       " 'read',\n",
       " 'readNextEndLine',\n",
       " 'readObjectHeader',\n",
       " 'read_next_end_line',\n",
       " 'read_object_header',\n",
       " 'resolved_objects',\n",
       " 'stream',\n",
       " 'strict',\n",
       " 'trailer',\n",
       " 'xfa',\n",
       " 'xmpMetadata',\n",
       " 'xmp_metadata',\n",
       " 'xref',\n",
       " 'xref_free_entry',\n",
       " 'xref_index',\n",
       " 'xref_objStm']"
      ]
     },
     "execution_count": 6,
     "metadata": {},
     "output_type": "execute_result"
    }
   ],
   "source": [
    "dir(fileReader)"
   ]
  },
  {
   "cell_type": "markdown",
   "metadata": {},
   "source": [
    "- Here we are not worring about the images now. only textual info is being considered now."
   ]
  },
  {
   "cell_type": "code",
   "execution_count": 14,
   "metadata": {},
   "outputs": [
    {
     "data": {
      "text/plain": [
       "['\\\\\\n', '']"
      ]
     },
     "execution_count": 14,
     "metadata": {},
     "output_type": "execute_result"
    }
   ],
   "source": [
    "page_list=[]\n",
    "# len of array = num of pages in pdf\n",
    "for i in fileReader.pages:\n",
    "    page_list.append(i.extract_text())\n",
    "page_list[:2]"
   ]
  },
  {
   "cell_type": "code",
   "execution_count": 20,
   "metadata": {},
   "outputs": [
    {
     "name": "stdout",
     "output_type": "stream",
     "text": [
      "pagenumber\n",
      "\\\n",
      "\n",
      "pagenumber\n",
      "\n",
      "pagenumber\n",
      "(Nasa Langle y Scientiﬁc And Technical Information\n",
      "Output: 1996\n",
      "https:/ /ntrs.nasa.go v/api/citations/19970014224/downloads/19970014224.pdf\n",
      ")\n",
      "\n",
      "pagenumber\n",
      "In 2019, Micr osoft announced its\n",
      "AI for Cultur al Heritage\n",
      "program, aiming t o preser ve\n",
      "and tr easur e people, places, and hist orical ar tifacts thr ough AI technology and\n",
      "collabor ation with cultur al nonpr oﬁt or ganizations.“\n",
      "“Preser ving cultur al heritage isn ’t something that is solely nice t o ha ve\n",
      "or nice t o do, it’ s sometimes imper ative to the well-being of the world’ s\n",
      "societies. ”\n",
      "— Brad Smith, President of Microsoft\n",
      "Accor ding t o Poonam Gandhi, a pr ofessor at\n",
      "Flame Univ ersity\n",
      ",\n",
      "cultur e and heritages\n",
      "shape human society and pr ovide a sense of identity .\n",
      "Speciﬁcally , cultur al heritage can\n",
      "\n",
      "pagenumber\n",
      "stimulate t ourism, which beneﬁts local economies, educates people with cultur e and\n",
      "history, and enhances social inclusiv eness.\n",
      "While the impor tance of pr eser ving cultur al heritage is ob vious, people ar e facing\n",
      "diﬃculties in the pr eser vation pr ocess. So, what can AI and other modern technologies\n",
      "actually do in the pr ocess of pr eser ving cultur al heritages that mak es Micr osoft and\n",
      "other or ganizations inv est in them?\n",
      "ANTIQUES REST ORA TION\n",
      "Due t o natur al disasters or man-made damages during the war , a gr eat deal of pr ecious\n",
      "historical sites and ar tifacts ha ve been damaged be yond r epair . It is diﬃcult t o repair\n",
      "damaged sites, as it ma y tak e several gener ations of individuals working on these\n",
      "projects due t o time, cost, and the lack of information on how the original work actually\n",
      "look ed.  Rebuilding cultur al heritage sites and ar tifacts is similar t o solving a big jigsaw\n",
      "puzzle without knowing what it should look lik e – e verything star ts from scr atch and\n",
      "guesses.\n",
      "RePAIR\n",
      "The ancient Roman city of\n",
      "Pompeii\n",
      ",\n",
      "which was destr oyed\n",
      "and buried b y the eruption of\n",
      "Mount V esuvius in A.D . 79, is now only left with the incomplete ar chitectur e and\n",
      "thousands of irr egular fr agments of ancient ar tifacts, such as v ases and fr escoes.\n",
      "\n"
     ]
    }
   ],
   "source": [
    "for i in page_list[:5]:\n",
    "    print(\"pagenumber\")\n",
    "    print(i)"
   ]
  },
  {
   "cell_type": "code",
   "execution_count": 21,
   "metadata": {},
   "outputs": [],
   "source": [
    "from transformers import pipeline"
   ]
  },
  {
   "cell_type": "code",
   "execution_count": 22,
   "metadata": {},
   "outputs": [
    {
     "name": "stderr",
     "output_type": "stream",
     "text": [
      "No model was supplied, defaulted to sshleifer/distilbart-cnn-12-6 and revision a4f8f3e (https://huggingface.co/sshleifer/distilbart-cnn-12-6).\n",
      "Using a pipeline without specifying a model name and revision in production is not recommended.\n"
     ]
    }
   ],
   "source": [
    "summarizer = pipeline('summarization')"
   ]
  },
  {
   "cell_type": "code",
   "execution_count": 27,
   "metadata": {},
   "outputs": [],
   "source": [
    "fileexp = open('E:/srm/srm_subs/networking/exp_3_and_4.pdf','rb')"
   ]
  },
  {
   "cell_type": "code",
   "execution_count": 31,
   "metadata": {},
   "outputs": [],
   "source": [
    "reader = PyPDF2.PdfFileReader(fileexp)"
   ]
  },
  {
   "cell_type": "code",
   "execution_count": 32,
   "metadata": {},
   "outputs": [],
   "source": [
    "liststext = [ ]\n",
    "for i in reader.pages:\n",
    "    liststext.append(i.extract_text())"
   ]
  },
  {
   "cell_type": "code",
   "execution_count": 50,
   "metadata": {},
   "outputs": [
    {
     "data": {
      "text/plain": [
       "129.5"
      ]
     },
     "execution_count": 50,
     "metadata": {},
     "output_type": "execute_result"
    }
   ],
   "source": [
    "len(liststext[0].split())/2"
   ]
  },
  {
   "cell_type": "code",
   "execution_count": 58,
   "metadata": {},
   "outputs": [],
   "source": [
    "tr = summarizer(liststext[0],min_length=70)"
   ]
  },
  {
   "cell_type": "code",
   "execution_count": 59,
   "metadata": {},
   "outputs": [
    {
     "data": {
      "text/plain": [
       "68"
      ]
     },
     "execution_count": 59,
     "metadata": {},
     "output_type": "execute_result"
    }
   ],
   "source": [
    "len(tr[0]['summary_text'].split())"
   ]
  },
  {
   "cell_type": "code",
   "execution_count": 4,
   "metadata": {},
   "outputs": [],
   "source": [
    "import urllib"
   ]
  },
  {
   "cell_type": "code",
   "execution_count": 20,
   "metadata": {},
   "outputs": [],
   "source": [
    "url = 'https://drive.google.com/drive/u/0/search?q=type:pdf'\n",
    "pdf = urllib.request.urlopen(urllib.request.Request(url)).read()"
   ]
  },
  {
   "cell_type": "code",
   "execution_count": 18,
   "metadata": {},
   "outputs": [],
   "source": [
    "import urllib\n",
    "\n",
    "def download_file(download_url):\n",
    "    web_file = urllib.request.urlopen(download_url)\n",
    "    local_file = open('a.pdf', 'wb')\n",
    "    local_file.write(web_file.read())\n",
    "    web_file.close()\n",
    "    local_file.close()\n"
   ]
  },
  {
   "cell_type": "code",
   "execution_count": 19,
   "metadata": {},
   "outputs": [],
   "source": [
    "download_file('https://drive.google.com/file/d/1tQvZVIBuzaMmNGd1wDjisKSbNZ7CBSHY/view?usp=sharing')"
   ]
  },
  {
   "cell_type": "code",
   "execution_count": null,
   "metadata": {},
   "outputs": [],
   "source": [
    "import Py"
   ]
  },
  {
   "cell_type": "code",
   "execution_count": 26,
   "metadata": {},
   "outputs": [
    {
     "name": "stderr",
     "output_type": "stream",
     "text": [
      "ERROR: Could not find a version that satisfies the requirement StringIO (from versions: none)\n",
      "ERROR: No matching distribution found for StringIO\n",
      "WARNING: You are using pip version 22.0.3; however, version 22.2.2 is available.\n",
      "You should consider upgrading via the 'D:\\PYTHON\\python.exe -m pip install --upgrade pip' command.\n"
     ]
    }
   ],
   "source": [
    "!pip install StringIO"
   ]
  },
  {
   "cell_type": "code",
   "execution_count": 70,
   "metadata": {},
   "outputs": [
    {
     "ename": "TypeError",
     "evalue": "initial_value must be str or None, not bytes",
     "output_type": "error",
     "traceback": [
      "\u001b[1;31m---------------------------------------------------------------------------\u001b[0m",
      "\u001b[1;31mTypeError\u001b[0m                                 Traceback (most recent call last)",
      "\u001b[1;32md:\\nasa_spacehack\\finalfiles\\pdfread.ipynb Cell 24\u001b[0m in \u001b[0;36m<module>\u001b[1;34m\u001b[0m\n\u001b[0;32m     <a href='vscode-notebook-cell:/d%3A/nasa_spacehack/finalfiles/pdfread.ipynb#X34sZmlsZQ%3D%3D?line=11'>12</a>\u001b[0m newfile\u001b[39m.\u001b[39mwrite(remoteFile)\n\u001b[0;32m     <a href='vscode-notebook-cell:/d%3A/nasa_spacehack/finalfiles/pdfread.ipynb#X34sZmlsZQ%3D%3D?line=12'>13</a>\u001b[0m newfile\u001b[39m.\u001b[39mclose()\n\u001b[1;32m---> <a href='vscode-notebook-cell:/d%3A/nasa_spacehack/finalfiles/pdfread.ipynb#X34sZmlsZQ%3D%3D?line=13'>14</a>\u001b[0m memoryFile \u001b[39m=\u001b[39m StringIO(remoteFile)\n\u001b[0;32m     <a href='vscode-notebook-cell:/d%3A/nasa_spacehack/finalfiles/pdfread.ipynb#X34sZmlsZQ%3D%3D?line=14'>15</a>\u001b[0m pdfFile \u001b[39m=\u001b[39m PdfFileReader(memoryFile)\n\u001b[0;32m     <a href='vscode-notebook-cell:/d%3A/nasa_spacehack/finalfiles/pdfread.ipynb#X34sZmlsZQ%3D%3D?line=16'>17</a>\u001b[0m \u001b[39mfor\u001b[39;00m pageNum \u001b[39min\u001b[39;00m \u001b[39mrange\u001b[39m(pdfFile\u001b[39m.\u001b[39mgetNumPages()):\n",
      "\u001b[1;31mTypeError\u001b[0m: initial_value must be str or None, not bytes"
     ]
    }
   ],
   "source": [
    "from urllib.request import Request, urlopen\n",
    "from PyPDF2 import PdfFileWriter, PdfFileReader\n",
    "from io import StringIO\n",
    "\n",
    "# url = \"https://alex.smola.org/drafts/thebook.pdf\"\n",
    "url = 'https://doc-0c-2c-prod-03-apps-viewer.googleusercontent.com/viewer2/prod-03/pdf/9jn1e0jcb4vuhlg2rg91j1rkel93775u/jdslu3fdm904jf00s88jviollq5lj7qq/1664634000000/3/*/APznzaZjmDhh-2YM8NCN4_g2PwbQnvEvPkTDC9Q3H9ffqn47r551wvZ5pLpd_e9GQNaG2evnY3VhP5C1wzK2TRovD9xLrMgq--XeZo4q28pVCwh5Wbdz9Gk_ykUUbe8PBD2NaQTeGi_qMbSESp86cDxYP6k8XEwywie8DK7EHdEl17CXEruJ49FLwGFzR8MJ3qUPYip0ybcEc8X2Tyc5s08ft2sqyl6KMyy8jrSLv0J9KMCS0xaW-0vYn7G2PDqQjx2YflnJjjQD8ucdqfCkr2MNMSoqjnMnJCLDjJQ4xAam68YPLY8qoS_WFhZT9O5EMEm463QQ2eukgNGOLIx0oVFhL6TMe1M6jISCDkcp_7_85w3xD4293xiJnG-dYkOAGOfInMGzj5oz?authuser'\n",
    "writer = PdfFileWriter()\n",
    "\n",
    "remoteFile = urlopen(Request(url)).read()\n",
    "# print(remoteFile)\n",
    "newfile = open('newfile.pdf','wb')\n",
    "newfile.write(remoteFile)\n",
    "newfile.close()\n",
    "# memoryFile = StringIO(remoteFile)\n",
    "# pdfFile = PdfFileReader(memoryFile)\n",
    "\n",
    "# for pageNum in range(pdfFile.getNumPages()):\n",
    "#         currentPage = pdfFile.getPage(pageNum)\n",
    "#         #currentPage.mergePage(watermark.getPage(0))\n",
    "#         writer.addPage(currentPage)\n",
    "\n",
    "\n",
    "# outputStream = open(\"output.pdf\",\"wb\")\n",
    "# writer.write(outputStream)\n",
    "# outputStream.close()"
   ]
  },
  {
   "cell_type": "code",
   "execution_count": 49,
   "metadata": {},
   "outputs": [],
   "source": [
    "string = remoteFile.read()"
   ]
  },
  {
   "cell_type": "code",
   "execution_count": 50,
   "metadata": {},
   "outputs": [],
   "source": [
    "import io"
   ]
  },
  {
   "cell_type": "code",
   "execution_count": 56,
   "metadata": {},
   "outputs": [],
   "source": [
    "stream = io.BytesIO(string)"
   ]
  },
  {
   "cell_type": "code",
   "execution_count": 66,
   "metadata": {},
   "outputs": [
    {
     "data": {
      "text/plain": [
       "0"
      ]
     },
     "execution_count": 66,
     "metadata": {},
     "output_type": "execute_result"
    }
   ],
   "source": [
    "stream.seek(0)"
   ]
  },
  {
   "cell_type": "code",
   "execution_count": 67,
   "metadata": {},
   "outputs": [],
   "source": [
    "newstream = stream.read1()"
   ]
  },
  {
   "cell_type": "code",
   "execution_count": 79,
   "metadata": {},
   "outputs": [],
   "source": [
    "# newstream"
   ]
  },
  {
   "cell_type": "code",
   "execution_count": 80,
   "metadata": {},
   "outputs": [],
   "source": [
    "filE = open('example.pdf','wb')\n",
    "filE.write(newstream)\n",
    "filE.close()"
   ]
  },
  {
   "cell_type": "code",
   "execution_count": 81,
   "metadata": {},
   "outputs": [],
   "source": [
    "file = open('example.pdf','rb')"
   ]
  },
  {
   "cell_type": "code",
   "execution_count": 83,
   "metadata": {},
   "outputs": [],
   "source": [
    "string = file.read()"
   ]
  },
  {
   "cell_type": "code",
   "execution_count": 86,
   "metadata": {},
   "outputs": [
    {
     "ename": "TypeError",
     "evalue": "string argument without an encoding",
     "output_type": "error",
     "traceback": [
      "\u001b[1;31m---------------------------------------------------------------------------\u001b[0m",
      "\u001b[1;31mTypeError\u001b[0m                                 Traceback (most recent call last)",
      "\u001b[1;32md:\\nasa_spacehack\\finalfiles\\pdfread.ipynb Cell 34\u001b[0m in \u001b[0;36m<module>\u001b[1;34m\u001b[0m\n\u001b[1;32m----> <a href='vscode-notebook-cell:/d%3A/nasa_spacehack/finalfiles/pdfread.ipynb#X60sZmlsZQ%3D%3D?line=0'>1</a>\u001b[0m string\u001b[39m.\u001b[39mfind(\u001b[39mbytes\u001b[39;49m(\u001b[39m\"\u001b[39;49m\u001b[39m%%\u001b[39;49;00m\u001b[39mEOF\u001b[39;49m\u001b[39m\"\u001b[39;49m))\n",
      "\u001b[1;31mTypeError\u001b[0m: string argument without an encoding"
     ]
    }
   ],
   "source": [
    "string.find(bytes(\"%%EOF\"))"
   ]
  },
  {
   "cell_type": "code",
   "execution_count": 82,
   "metadata": {},
   "outputs": [
    {
     "ename": "PdfReadError",
     "evalue": "EOF marker not found",
     "output_type": "error",
     "traceback": [
      "\u001b[1;31m---------------------------------------------------------------------------\u001b[0m",
      "\u001b[1;31mPdfReadError\u001b[0m                              Traceback (most recent call last)",
      "\u001b[1;32md:\\nasa_spacehack\\finalfiles\\pdfread.ipynb Cell 33\u001b[0m in \u001b[0;36m<module>\u001b[1;34m\u001b[0m\n\u001b[1;32m----> <a href='vscode-notebook-cell:/d%3A/nasa_spacehack/finalfiles/pdfread.ipynb#X55sZmlsZQ%3D%3D?line=0'>1</a>\u001b[0m filereader \u001b[39m=\u001b[39m PyPDF2\u001b[39m.\u001b[39;49mPdfReader(file)\n",
      "File \u001b[1;32md:\\PYTHON\\lib\\site-packages\\PyPDF2\\_reader.py:317\u001b[0m, in \u001b[0;36mPdfReader.__init__\u001b[1;34m(self, stream, strict, password)\u001b[0m\n\u001b[0;32m    315\u001b[0m     \u001b[39mwith\u001b[39;00m \u001b[39mopen\u001b[39m(stream, \u001b[39m\"\u001b[39m\u001b[39mrb\u001b[39m\u001b[39m\"\u001b[39m) \u001b[39mas\u001b[39;00m fh:\n\u001b[0;32m    316\u001b[0m         stream \u001b[39m=\u001b[39m BytesIO(fh\u001b[39m.\u001b[39mread())\n\u001b[1;32m--> 317\u001b[0m \u001b[39mself\u001b[39;49m\u001b[39m.\u001b[39;49mread(stream)\n\u001b[0;32m    318\u001b[0m \u001b[39mself\u001b[39m\u001b[39m.\u001b[39mstream \u001b[39m=\u001b[39m stream\n\u001b[0;32m    320\u001b[0m \u001b[39mself\u001b[39m\u001b[39m.\u001b[39m_override_encryption \u001b[39m=\u001b[39m \u001b[39mFalse\u001b[39;00m\n",
      "File \u001b[1;32md:\\PYTHON\\lib\\site-packages\\PyPDF2\\_reader.py:1375\u001b[0m, in \u001b[0;36mPdfReader.read\u001b[1;34m(self, stream)\u001b[0m\n\u001b[0;32m   1373\u001b[0m \u001b[39mdef\u001b[39;00m \u001b[39mread\u001b[39m(\u001b[39mself\u001b[39m, stream: StreamType) \u001b[39m-\u001b[39m\u001b[39m>\u001b[39m \u001b[39mNone\u001b[39;00m:\n\u001b[0;32m   1374\u001b[0m     \u001b[39mself\u001b[39m\u001b[39m.\u001b[39m_basic_validation(stream)\n\u001b[1;32m-> 1375\u001b[0m     \u001b[39mself\u001b[39;49m\u001b[39m.\u001b[39;49m_find_eof_marker(stream)\n\u001b[0;32m   1376\u001b[0m     startxref \u001b[39m=\u001b[39m \u001b[39mself\u001b[39m\u001b[39m.\u001b[39m_find_startxref_pos(stream)\n\u001b[0;32m   1378\u001b[0m     \u001b[39m# check and eventually correct the startxref only in not strict\u001b[39;00m\n",
      "File \u001b[1;32md:\\PYTHON\\lib\\site-packages\\PyPDF2\\_reader.py:1431\u001b[0m, in \u001b[0;36mPdfReader._find_eof_marker\u001b[1;34m(self, stream)\u001b[0m\n\u001b[0;32m   1429\u001b[0m \u001b[39mwhile\u001b[39;00m line[:\u001b[39m5\u001b[39m] \u001b[39m!=\u001b[39m \u001b[39mb\u001b[39m\u001b[39m\"\u001b[39m\u001b[39m%%\u001b[39;00m\u001b[39mEOF\u001b[39m\u001b[39m\"\u001b[39m:\n\u001b[0;32m   1430\u001b[0m     \u001b[39mif\u001b[39;00m stream\u001b[39m.\u001b[39mtell() \u001b[39m<\u001b[39m last_mb:\n\u001b[1;32m-> 1431\u001b[0m         \u001b[39mraise\u001b[39;00m PdfReadError(\u001b[39m\"\u001b[39m\u001b[39mEOF marker not found\u001b[39m\u001b[39m\"\u001b[39m)\n\u001b[0;32m   1432\u001b[0m     line \u001b[39m=\u001b[39m read_previous_line(stream)\n",
      "\u001b[1;31mPdfReadError\u001b[0m: EOF marker not found"
     ]
    }
   ],
   "source": [
    "filereader = PyPDF2.PdfReader(file)"
   ]
  },
  {
   "cell_type": "code",
   "execution_count": 77,
   "metadata": {},
   "outputs": [
    {
     "ename": "TypeError",
     "evalue": "initial_value must be str or None, not bytes",
     "output_type": "error",
     "traceback": [
      "\u001b[1;31m---------------------------------------------------------------------------\u001b[0m",
      "\u001b[1;31mTypeError\u001b[0m                                 Traceback (most recent call last)",
      "\u001b[1;32md:\\nasa_spacehack\\finalfiles\\pdfread.ipynb Cell 32\u001b[0m in \u001b[0;36m<module>\u001b[1;34m\u001b[0m\n\u001b[0;32m      <a href='vscode-notebook-cell:/d%3A/nasa_spacehack/finalfiles/pdfread.ipynb#X52sZmlsZQ%3D%3D?line=7'>8</a>\u001b[0m remoteFile \u001b[39m=\u001b[39m urlopen(Request(url))\u001b[39m.\u001b[39mread()\n\u001b[0;32m      <a href='vscode-notebook-cell:/d%3A/nasa_spacehack/finalfiles/pdfread.ipynb#X52sZmlsZQ%3D%3D?line=8'>9</a>\u001b[0m stream \u001b[39m=\u001b[39m io\u001b[39m.\u001b[39mBytesIO(remoteFile)\n\u001b[1;32m---> <a href='vscode-notebook-cell:/d%3A/nasa_spacehack/finalfiles/pdfread.ipynb#X52sZmlsZQ%3D%3D?line=9'>10</a>\u001b[0m memoryFile \u001b[39m=\u001b[39m StringIO(stream\u001b[39m.\u001b[39;49mread())\n\u001b[0;32m     <a href='vscode-notebook-cell:/d%3A/nasa_spacehack/finalfiles/pdfread.ipynb#X52sZmlsZQ%3D%3D?line=10'>11</a>\u001b[0m pdfFile \u001b[39m=\u001b[39m PdfReader(memoryFile)\n\u001b[0;32m     <a href='vscode-notebook-cell:/d%3A/nasa_spacehack/finalfiles/pdfread.ipynb#X52sZmlsZQ%3D%3D?line=12'>13</a>\u001b[0m \u001b[39mfor\u001b[39;00m pageNum \u001b[39min\u001b[39;00m \u001b[39mrange\u001b[39m(pdfFile\u001b[39m.\u001b[39mgetNumPages()):\n",
      "\u001b[1;31mTypeError\u001b[0m: initial_value must be str or None, not bytes"
     ]
    }
   ],
   "source": [
    "from urllib.request import Request, urlopen\n",
    "from PyPDF2 import PdfFileWriter, PdfReader\n",
    "from io import StringIO\n",
    "\n",
    "url = \"https://www.w3.org/WAI/ER/tests/xhtml/testfiles/resources/pdf/dummy.pdf\"\n",
    "writer = PdfFileWriter()\n",
    "\n",
    "remoteFile = urlopen(Request(url)).read()\n",
    "stream = io.BytesIO(remoteFile)\n",
    "memoryFile = StringIO(stream.read())\n",
    "pdfFile = PdfReader(memoryFile)\n",
    "\n",
    "for pageNum in range(pdfFile.getNumPages()):\n",
    "        currentPage = pdfFile.getPage(pageNum)\n",
    "        #currentPage.mergePage(watermark.getPage(0))\n",
    "        writer.addPage(currentPage)\n",
    "\n",
    "\n",
    "outputStream = open(\"output.pdf\",\"wb\")\n",
    "writer.write(outputStream)\n",
    "outputStream.close()"
   ]
  },
  {
   "cell_type": "code",
   "execution_count": 88,
   "metadata": {},
   "outputs": [],
   "source": [
    "import requests\n",
    "\n",
    "url = 'http://www.hrecos.org//images/Data/forweb/HRTVBSH.Metadata.pdf'\n",
    "r = requests.get(url, stream=True)\n",
    "\n",
    "with open('metadata.pdf', 'wb') as fd:\n",
    "    for chunk in r.iter_content(2000):\n",
    "        fd.write(chunk)"
   ]
  },
  {
   "cell_type": "code",
   "execution_count": 89,
   "metadata": {},
   "outputs": [
    {
     "data": {
      "text/plain": [
       "226"
      ]
     },
     "execution_count": 89,
     "metadata": {},
     "output_type": "execute_result"
    }
   ],
   "source": [
    "from pathlib import Path\n",
    "import requests\n",
    "filename = Path('metadata1.pdf')\n",
    "url = 'http://www.hrecos.org//images/Data/forweb/HRTVBSH.Metadata.pdf'\n",
    "response = requests.get(url)\n",
    "filename.write_bytes(response.content)"
   ]
  },
  {
   "cell_type": "code",
   "execution_count": 94,
   "metadata": {},
   "outputs": [
    {
     "data": {
      "text/plain": [
       "('mast.pdf', <http.client.HTTPMessage at 0x2a90387ea60>)"
      ]
     },
     "execution_count": 94,
     "metadata": {},
     "output_type": "execute_result"
    }
   ],
   "source": [
    "import urllib.request\n",
    "urllib.request.urlretrieve(\"https://www.w3.org/WAI/ER/tests/xhtml/testfiles/resources/pdf/dummy.pdf\", \"mast.pdf\")"
   ]
  },
  {
   "cell_type": "code",
   "execution_count": null,
   "metadata": {},
   "outputs": [],
   "source": [
    "file = open()"
   ]
  },
  {
   "cell_type": "code",
   "execution_count": 93,
   "metadata": {},
   "outputs": [],
   "source": [
    "import urllib.request\n",
    "pdf_path = \"\"\n",
    "def download_file(download_url, filename):\n",
    "    response = urllib.request.urlopen(download_url)    \n",
    "    file = open(filename + \".pdf\", 'wb')\n",
    "    file.write(response.read())\n",
    "    file.close()\n",
    " \n",
    "download_file(\"https://www.w3.org/WAI/ER/tests/xhtml/testfiles/resources/pdf/dummy.pdf\", \"Test\")"
   ]
  },
  {
   "cell_type": "code",
   "execution_count": 91,
   "metadata": {},
   "outputs": [
    {
     "data": {
      "text/plain": [
       "'http://www.hrecos.org//images/Data/forweb/HRTVBSH.Metadata.pdf'"
      ]
     },
     "execution_count": 91,
     "metadata": {},
     "output_type": "execute_result"
    }
   ],
   "source": [
    "url"
   ]
  },
  {
   "cell_type": "code",
   "execution_count": 95,
   "metadata": {},
   "outputs": [
    {
     "name": "stdout",
     "output_type": "stream",
     "text": [
      "Collecting streamlit"
     ]
    },
    {
     "name": "stderr",
     "output_type": "stream",
     "text": [
      "WARNING: You are using pip version 22.0.3; however, version 22.2.2 is available.\n"
     ]
    },
    {
     "name": "stdout",
     "output_type": "stream",
     "text": [
      "\n",
      "  Downloading streamlit-1.13.0-py2.py3-none-any.whl (9.2 MB)\n",
      "     ---------------------------------------- 9.2/9.2 MB 3.0 MB/s eta 0:00:00\n",
      "Collecting pydeck>=0.1.dev5\n",
      "  Downloading pydeck-0.8.0b3-py2.py3-none-any.whl (4.7 MB)\n",
      "     ---------------------------------------- 4.7/4.7 MB 2.8 MB/s eta 0:00:00\n",
      "Collecting toml\n",
      "  Downloading toml-0.10.2-py2.py3-none-any.whl (16 kB)\n",
      "Requirement already satisfied: requests>=2.4 in d:\\python\\lib\\site-packages (from streamlit) (2.27.1)\n",
      "Collecting semver\n",
      "  Downloading semver-2.13.0-py2.py3-none-any.whl (12 kB)\n",
      "Requirement already satisfied: tornado>=5.0 in c:\\users\\naras\\appdata\\roaming\\python\\python39\\site-packages (from streamlit) (6.1)\n",
      "Collecting blinker>=1.0.0\n",
      "  Downloading blinker-1.5-py2.py3-none-any.whl (12 kB)\n",
      "Collecting rich>=10.11.0\n",
      "  Downloading rich-12.5.1-py3-none-any.whl (235 kB)\n",
      "     -------------------------------------- 235.6/235.6 KB 2.9 MB/s eta 0:00:00\n",
      "Requirement already satisfied: typing-extensions>=3.10.0.0 in d:\\python\\lib\\site-packages (from streamlit) (4.3.0)\n",
      "Collecting pympler>=0.9\n",
      "  Downloading Pympler-1.0.1-py3-none-any.whl (164 kB)\n",
      "     -------------------------------------- 164.8/164.8 KB 2.5 MB/s eta 0:00:00\n",
      "Requirement already satisfied: packaging>=14.1 in d:\\python\\lib\\site-packages (from streamlit) (21.3)\n",
      "Requirement already satisfied: python-dateutil in d:\\python\\lib\\site-packages (from streamlit) (2.8.2)\n",
      "Collecting tzlocal>=1.1\n",
      "  Downloading tzlocal-4.2-py3-none-any.whl (19 kB)\n",
      "Requirement already satisfied: pillow>=6.2.0 in d:\\python\\lib\\site-packages (from streamlit) (8.2.0)\n",
      "Requirement already satisfied: pandas>=0.21.0 in d:\\python\\lib\\site-packages (from streamlit) (1.4.0)\n",
      "Collecting watchdog\n",
      "  Downloading watchdog-2.1.9-py3-none-win_amd64.whl (78 kB)\n",
      "     ---------------------------------------- 78.4/78.4 KB ? eta 0:00:00\n",
      "Collecting gitpython!=3.1.19\n",
      "  Downloading GitPython-3.1.27-py3-none-any.whl (181 kB)\n",
      "     -------------------------------------- 181.2/181.2 KB 3.7 MB/s eta 0:00:00\n",
      "Requirement already satisfied: importlib-metadata>=1.4 in d:\\python\\lib\\site-packages (from streamlit) (4.12.0)\n",
      "Requirement already satisfied: click>=7.0 in c:\\users\\naras\\appdata\\roaming\\python\\python39\\site-packages (from streamlit) (8.0.3)\n",
      "Requirement already satisfied: numpy in d:\\python\\lib\\site-packages (from streamlit) (1.22.2)\n",
      "Collecting cachetools>=4.0\n",
      "  Downloading cachetools-5.2.0-py3-none-any.whl (9.3 kB)\n",
      "Collecting validators>=0.2\n",
      "  Downloading validators-0.20.0.tar.gz (30 kB)\n",
      "  Preparing metadata (setup.py): started\n",
      "  Preparing metadata (setup.py): finished with status 'done'\n",
      "Collecting protobuf!=3.20.2,<4,>=3.12\n",
      "  Downloading protobuf-3.20.3-cp39-cp39-win_amd64.whl (904 kB)\n",
      "     -------------------------------------- 904.2/904.2 KB 2.5 MB/s eta 0:00:00\n",
      "Collecting altair>=3.2.0\n",
      "  Downloading altair-4.2.0-py3-none-any.whl (812 kB)\n",
      "     -------------------------------------- 812.8/812.8 KB 2.4 MB/s eta 0:00:00\n",
      "Collecting pyarrow>=4.0\n",
      "  Downloading pyarrow-9.0.0-cp39-cp39-win_amd64.whl (19.6 MB)\n",
      "     ---------------------------------------- 19.6/19.6 MB 2.7 MB/s eta 0:00:00\n",
      "Collecting toolz\n",
      "  Downloading toolz-0.12.0-py3-none-any.whl (55 kB)\n",
      "     ---------------------------------------- 55.8/55.8 KB 1.5 MB/s eta 0:00:00\n",
      "Requirement already satisfied: entrypoints in c:\\users\\naras\\appdata\\roaming\\python\\python39\\site-packages (from altair>=3.2.0->streamlit) (0.4)\n",
      "Collecting jsonschema>=3.0\n",
      "  Downloading jsonschema-4.16.0-py3-none-any.whl (83 kB)\n",
      "     ---------------------------------------- 83.1/83.1 KB 2.4 MB/s eta 0:00:00\n",
      "Requirement already satisfied: jinja2 in d:\\python\\lib\\site-packages (from altair>=3.2.0->streamlit) (3.1.2)\n",
      "Requirement already satisfied: colorama in c:\\users\\naras\\appdata\\roaming\\python\\python39\\site-packages (from click>=7.0->streamlit) (0.4.4)\n",
      "Collecting gitdb<5,>=4.0.1\n",
      "  Downloading gitdb-4.0.9-py3-none-any.whl (63 kB)\n",
      "     ---------------------------------------- 63.1/63.1 KB 1.7 MB/s eta 0:00:00\n",
      "Requirement already satisfied: zipp>=0.5 in d:\\python\\lib\\site-packages (from importlib-metadata>=1.4->streamlit) (3.8.1)\n",
      "Requirement already satisfied: pyparsing!=3.0.5,>=2.0.2 in d:\\python\\lib\\site-packages (from packaging>=14.1->streamlit) (3.0.7)\n",
      "Requirement already satisfied: pytz>=2020.1 in d:\\python\\lib\\site-packages (from pandas>=0.21.0->streamlit) (2021.3)\n",
      "Requirement already satisfied: six>=1.5 in d:\\python\\lib\\site-packages (from python-dateutil->streamlit) (1.16.0)\n",
      "Requirement already satisfied: urllib3<1.27,>=1.21.1 in d:\\python\\lib\\site-packages (from requests>=2.4->streamlit) (1.26.8)\n",
      "Requirement already satisfied: idna<4,>=2.5 in d:\\python\\lib\\site-packages (from requests>=2.4->streamlit) (3.3)\n",
      "Requirement already satisfied: certifi>=2017.4.17 in d:\\python\\lib\\site-packages (from requests>=2.4->streamlit) (2021.10.8)\n",
      "Requirement already satisfied: charset-normalizer~=2.0.0 in d:\\python\\lib\\site-packages (from requests>=2.4->streamlit) (2.0.12)\n",
      "Requirement already satisfied: pygments<3.0.0,>=2.6.0 in c:\\users\\naras\\appdata\\roaming\\python\\python39\\site-packages (from rich>=10.11.0->streamlit) (2.11.2)\n",
      "Collecting commonmark<0.10.0,>=0.9.0\n",
      "  Downloading commonmark-0.9.1-py2.py3-none-any.whl (51 kB)\n",
      "     ---------------------------------------- 51.1/51.1 KB ? eta 0:00:00\n",
      "Collecting tzdata\n",
      "  Downloading tzdata-2022.4-py2.py3-none-any.whl (336 kB)\n",
      "     -------------------------------------- 336.7/336.7 KB 3.0 MB/s eta 0:00:00\n",
      "Collecting pytz-deprecation-shim\n",
      "  Downloading pytz_deprecation_shim-0.1.0.post0-py2.py3-none-any.whl (15 kB)\n",
      "Requirement already satisfied: decorator>=3.4.0 in c:\\users\\naras\\appdata\\roaming\\python\\python39\\site-packages (from validators>=0.2->streamlit) (5.1.1)\n",
      "Collecting smmap<6,>=3.0.1\n",
      "  Downloading smmap-5.0.0-py3-none-any.whl (24 kB)\n",
      "Requirement already satisfied: MarkupSafe>=2.0 in d:\\python\\lib\\site-packages (from jinja2->altair>=3.2.0->streamlit) (2.1.1)\n",
      "Collecting pyrsistent!=0.17.0,!=0.17.1,!=0.17.2,>=0.14.0\n",
      "  Downloading pyrsistent-0.18.1-cp39-cp39-win_amd64.whl (61 kB)\n",
      "     ---------------------------------------- 61.6/61.6 KB ? eta 0:00:00\n",
      "Collecting attrs>=17.4.0\n",
      "  Downloading attrs-22.1.0-py2.py3-none-any.whl (58 kB)\n",
      "     ---------------------------------------- 58.8/58.8 KB 3.0 MB/s eta 0:00:00\n",
      "Using legacy 'setup.py install' for validators, since package 'wheel' is not installed.\n",
      "Installing collected packages: commonmark, watchdog, validators, tzdata, toolz, toml, smmap, semver, rich, pyrsistent, pympler, pyarrow, protobuf, cachetools, blinker, attrs, pytz-deprecation-shim, pydeck, jsonschema, gitdb, tzlocal, gitpython, altair, streamlit\n",
      "  Running setup.py install for validators: started\n",
      "  Running setup.py install for validators: finished with status 'done'\n",
      "Successfully installed altair-4.2.0 attrs-22.1.0 blinker-1.5 cachetools-5.2.0 commonmark-0.9.1 gitdb-4.0.9 gitpython-3.1.27 jsonschema-4.16.0 protobuf-3.20.3 pyarrow-9.0.0 pydeck-0.8.0b3 pympler-1.0.1 pyrsistent-0.18.1 pytz-deprecation-shim-0.1.0.post0 rich-12.5.1 semver-2.13.0 smmap-5.0.0 streamlit-1.13.0 toml-0.10.2 toolz-0.12.0 tzdata-2022.4 tzlocal-4.2 validators-0.20.0 watchdog-2.1.9\n"
     ]
    },
    {
     "name": "stderr",
     "output_type": "stream",
     "text": [
      "You should consider upgrading via the 'D:\\PYTHON\\python.exe -m pip install --upgrade pip' command.\n"
     ]
    }
   ],
   "source": [
    "!pip install streamlit"
   ]
  },
  {
   "cell_type": "code",
   "execution_count": 96,
   "metadata": {},
   "outputs": [],
   "source": [
    "import streamlit as st"
   ]
  },
  {
   "cell_type": "code",
   "execution_count": 101,
   "metadata": {},
   "outputs": [],
   "source": [
    "import fitz  # this is pymupdf\n",
    "\n",
    "def read_pdf_with_fitz(file):\n",
    "    with fitz.open(file) as doc:\n",
    "        text = \"\"\n",
    "        for page in doc:\n",
    "            text += page.getText()\n",
    "    return text \n",
    "\n",
    "pdf = st.file_uploader(\"./mast.pdf\",type=['pdf'])\n",
    "result = read_pdf_with_fitz(pdf)"
   ]
  },
  {
   "cell_type": "code",
   "execution_count": 102,
   "metadata": {},
   "outputs": [
    {
     "data": {
      "text/plain": [
       "''"
      ]
     },
     "execution_count": 102,
     "metadata": {},
     "output_type": "execute_result"
    }
   ],
   "source": [
    "result"
   ]
  },
  {
   "cell_type": "code",
   "execution_count": null,
   "metadata": {},
   "outputs": [],
   "source": []
  }
 ],
 "metadata": {
  "kernelspec": {
   "display_name": "Python 3.9.10 64-bit",
   "language": "python",
   "name": "python3"
  },
  "language_info": {
   "codemirror_mode": {
    "name": "ipython",
    "version": 3
   },
   "file_extension": ".py",
   "mimetype": "text/x-python",
   "name": "python",
   "nbconvert_exporter": "python",
   "pygments_lexer": "ipython3",
   "version": "3.9.10"
  },
  "orig_nbformat": 4,
  "vscode": {
   "interpreter": {
    "hash": "e2aae14933474253bf7e204dfdcd59c9e221c3358c06c5af46c0ae09e251b4f0"
   }
  }
 },
 "nbformat": 4,
 "nbformat_minor": 2
}
