{
 "cells": [
  {
   "cell_type": "code",
   "execution_count": 1,
   "metadata": {},
   "outputs": [
    {
     "name": "stdout",
     "output_type": "stream",
     "text": [
      "Collecting PyPDF2\n",
      "  Downloading PyPDF2-2.11.0-py3-none-any.whl (220 kB)\n",
      "     ------------------------------------ 220.2/220.2 KB 747.3 kB/s eta 0:00:00\n",
      "Requirement already satisfied: typing-extensions>=3.10.0.0 in d:\\python\\lib\\site-packages (from PyPDF2) (4.3.0)\n",
      "Installing collected packages: PyPDF2\n",
      "Successfully installed PyPDF2-2.11.0\n"
     ]
    },
    {
     "name": "stderr",
     "output_type": "stream",
     "text": [
      "WARNING: You are using pip version 22.0.3; however, version 22.2.2 is available.\n",
      "You should consider upgrading via the 'D:\\PYTHON\\python.exe -m pip install --upgrade pip' command.\n"
     ]
    }
   ],
   "source": [
    "!pip install PyPDF2"
   ]
  },
  {
   "cell_type": "code",
   "execution_count": 2,
   "metadata": {},
   "outputs": [],
   "source": [
    "import PyPDF2"
   ]
  },
  {
   "cell_type": "code",
   "execution_count": 3,
   "metadata": {},
   "outputs": [],
   "source": [
    "f = open('NASA-test-pdf.pdf','rb')"
   ]
  },
  {
   "cell_type": "code",
   "execution_count": 4,
   "metadata": {},
   "outputs": [],
   "source": [
    "fileReader = PyPDF2.PdfFileReader(f)"
   ]
  },
  {
   "cell_type": "code",
   "execution_count": 5,
   "metadata": {},
   "outputs": [
    {
     "data": {
      "text/plain": [
       "124"
      ]
     },
     "execution_count": 5,
     "metadata": {},
     "output_type": "execute_result"
    }
   ],
   "source": [
    "fileReader.numPages"
   ]
  },
  {
   "cell_type": "code",
   "execution_count": 6,
   "metadata": {},
   "outputs": [
    {
     "data": {
      "text/plain": [
       "['__class__',\n",
       " '__delattr__',\n",
       " '__dict__',\n",
       " '__dir__',\n",
       " '__doc__',\n",
       " '__eq__',\n",
       " '__format__',\n",
       " '__ge__',\n",
       " '__getattribute__',\n",
       " '__gt__',\n",
       " '__hash__',\n",
       " '__init__',\n",
       " '__init_subclass__',\n",
       " '__le__',\n",
       " '__lt__',\n",
       " '__module__',\n",
       " '__ne__',\n",
       " '__new__',\n",
       " '__reduce__',\n",
       " '__reduce_ex__',\n",
       " '__repr__',\n",
       " '__setattr__',\n",
       " '__sizeof__',\n",
       " '__str__',\n",
       " '__subclasshook__',\n",
       " '__weakref__',\n",
       " '_basic_validation',\n",
       " '_build_destination',\n",
       " '_build_field',\n",
       " '_build_outline_item',\n",
       " '_check_kids',\n",
       " '_encryption',\n",
       " '_find_eof_marker',\n",
       " '_find_startxref_pos',\n",
       " '_flatten',\n",
       " '_get_indirect_object',\n",
       " '_get_named_destinations',\n",
       " '_get_num_pages',\n",
       " '_get_object_from_stream',\n",
       " '_get_outline',\n",
       " '_get_page',\n",
       " '_get_page_number_by_indirect',\n",
       " '_get_xref_issues',\n",
       " '_override_encryption',\n",
       " '_page_id2num',\n",
       " '_pairs',\n",
       " '_read_pdf15_xref_stream',\n",
       " '_read_standard_xref_table',\n",
       " '_read_xref',\n",
       " '_read_xref_other_error',\n",
       " '_read_xref_subsections',\n",
       " '_read_xref_tables_and_trailers',\n",
       " '_rebuild_xref_table',\n",
       " '_write_field',\n",
       " 'cacheGetIndirectObject',\n",
       " 'cacheIndirectObject',\n",
       " 'cache_get_indirect_object',\n",
       " 'cache_indirect_object',\n",
       " 'decode_permissions',\n",
       " 'decrypt',\n",
       " 'documentInfo',\n",
       " 'flattened_pages',\n",
       " 'getDestinationPageNumber',\n",
       " 'getDocumentInfo',\n",
       " 'getFields',\n",
       " 'getFormTextFields',\n",
       " 'getIsEncrypted',\n",
       " 'getNamedDestinations',\n",
       " 'getNumPages',\n",
       " 'getObject',\n",
       " 'getOutlines',\n",
       " 'getPage',\n",
       " 'getPageLayout',\n",
       " 'getPageMode',\n",
       " 'getPageNumber',\n",
       " 'getXmpMetadata',\n",
       " 'get_destination_page_number',\n",
       " 'get_fields',\n",
       " 'get_form_text_fields',\n",
       " 'get_object',\n",
       " 'get_page_number',\n",
       " 'isEncrypted',\n",
       " 'is_encrypted',\n",
       " 'metadata',\n",
       " 'namedDestinations',\n",
       " 'named_destinations',\n",
       " 'numPages',\n",
       " 'outline',\n",
       " 'outlines',\n",
       " 'pageLayout',\n",
       " 'pageMode',\n",
       " 'page_layout',\n",
       " 'page_mode',\n",
       " 'pages',\n",
       " 'pdf_header',\n",
       " 'read',\n",
       " 'readNextEndLine',\n",
       " 'readObjectHeader',\n",
       " 'read_next_end_line',\n",
       " 'read_object_header',\n",
       " 'resolved_objects',\n",
       " 'stream',\n",
       " 'strict',\n",
       " 'trailer',\n",
       " 'xfa',\n",
       " 'xmpMetadata',\n",
       " 'xmp_metadata',\n",
       " 'xref',\n",
       " 'xref_free_entry',\n",
       " 'xref_index',\n",
       " 'xref_objStm']"
      ]
     },
     "execution_count": 6,
     "metadata": {},
     "output_type": "execute_result"
    }
   ],
   "source": [
    "dir(fileReader)"
   ]
  },
  {
   "cell_type": "markdown",
   "metadata": {},
   "source": [
    "- Here we are not worring about the images now. only textual info is being considered now."
   ]
  },
  {
   "cell_type": "code",
   "execution_count": 14,
   "metadata": {},
   "outputs": [
    {
     "data": {
      "text/plain": [
       "['\\\\\\n', '']"
      ]
     },
     "execution_count": 14,
     "metadata": {},
     "output_type": "execute_result"
    }
   ],
   "source": [
    "page_list=[]\n",
    "# len of array = num of pages in pdf\n",
    "for i in fileReader.pages:\n",
    "    page_list.append(i.extract_text())\n",
    "page_list[:2]"
   ]
  },
  {
   "cell_type": "code",
   "execution_count": 20,
   "metadata": {},
   "outputs": [
    {
     "name": "stdout",
     "output_type": "stream",
     "text": [
      "pagenumber\n",
      "\\\n",
      "\n",
      "pagenumber\n",
      "\n",
      "pagenumber\n",
      "(Nasa Langle y Scientiﬁc And Technical Information\n",
      "Output: 1996\n",
      "https:/ /ntrs.nasa.go v/api/citations/19970014224/downloads/19970014224.pdf\n",
      ")\n",
      "\n",
      "pagenumber\n",
      "In 2019, Micr osoft announced its\n",
      "AI for Cultur al Heritage\n",
      "program, aiming t o preser ve\n",
      "and tr easur e people, places, and hist orical ar tifacts thr ough AI technology and\n",
      "collabor ation with cultur al nonpr oﬁt or ganizations.“\n",
      "“Preser ving cultur al heritage isn ’t something that is solely nice t o ha ve\n",
      "or nice t o do, it’ s sometimes imper ative to the well-being of the world’ s\n",
      "societies. ”\n",
      "— Brad Smith, President of Microsoft\n",
      "Accor ding t o Poonam Gandhi, a pr ofessor at\n",
      "Flame Univ ersity\n",
      ",\n",
      "cultur e and heritages\n",
      "shape human society and pr ovide a sense of identity .\n",
      "Speciﬁcally , cultur al heritage can\n",
      "\n",
      "pagenumber\n",
      "stimulate t ourism, which beneﬁts local economies, educates people with cultur e and\n",
      "history, and enhances social inclusiv eness.\n",
      "While the impor tance of pr eser ving cultur al heritage is ob vious, people ar e facing\n",
      "diﬃculties in the pr eser vation pr ocess. So, what can AI and other modern technologies\n",
      "actually do in the pr ocess of pr eser ving cultur al heritages that mak es Micr osoft and\n",
      "other or ganizations inv est in them?\n",
      "ANTIQUES REST ORA TION\n",
      "Due t o natur al disasters or man-made damages during the war , a gr eat deal of pr ecious\n",
      "historical sites and ar tifacts ha ve been damaged be yond r epair . It is diﬃcult t o repair\n",
      "damaged sites, as it ma y tak e several gener ations of individuals working on these\n",
      "projects due t o time, cost, and the lack of information on how the original work actually\n",
      "look ed.  Rebuilding cultur al heritage sites and ar tifacts is similar t o solving a big jigsaw\n",
      "puzzle without knowing what it should look lik e – e verything star ts from scr atch and\n",
      "guesses.\n",
      "RePAIR\n",
      "The ancient Roman city of\n",
      "Pompeii\n",
      ",\n",
      "which was destr oyed\n",
      "and buried b y the eruption of\n",
      "Mount V esuvius in A.D . 79, is now only left with the incomplete ar chitectur e and\n",
      "thousands of irr egular fr agments of ancient ar tifacts, such as v ases and fr escoes.\n",
      "\n"
     ]
    }
   ],
   "source": [
    "for i in page_list[:5]:\n",
    "    print(\"pagenumber\")\n",
    "    print(i)"
   ]
  },
  {
   "cell_type": "code",
   "execution_count": 21,
   "metadata": {},
   "outputs": [],
   "source": [
    "from transformers import pipeline"
   ]
  },
  {
   "cell_type": "code",
   "execution_count": 22,
   "metadata": {},
   "outputs": [
    {
     "name": "stderr",
     "output_type": "stream",
     "text": [
      "No model was supplied, defaulted to sshleifer/distilbart-cnn-12-6 and revision a4f8f3e (https://huggingface.co/sshleifer/distilbart-cnn-12-6).\n",
      "Using a pipeline without specifying a model name and revision in production is not recommended.\n"
     ]
    }
   ],
   "source": [
    "summarizer = pipeline('summarization')"
   ]
  },
  {
   "cell_type": "code",
   "execution_count": 27,
   "metadata": {},
   "outputs": [],
   "source": [
    "fileexp = open('E:/srm/srm_subs/networking/exp_3_and_4.pdf','rb')"
   ]
  },
  {
   "cell_type": "code",
   "execution_count": 31,
   "metadata": {},
   "outputs": [],
   "source": [
    "reader = PyPDF2.PdfFileReader(fileexp)"
   ]
  },
  {
   "cell_type": "code",
   "execution_count": 32,
   "metadata": {},
   "outputs": [],
   "source": [
    "liststext = [ ]\n",
    "for i in reader.pages:\n",
    "    liststext.append(i.extract_text())"
   ]
  },
  {
   "cell_type": "code",
   "execution_count": 50,
   "metadata": {},
   "outputs": [
    {
     "data": {
      "text/plain": [
       "129.5"
      ]
     },
     "execution_count": 50,
     "metadata": {},
     "output_type": "execute_result"
    }
   ],
   "source": [
    "len(liststext[0].split())/2"
   ]
  },
  {
   "cell_type": "code",
   "execution_count": 58,
   "metadata": {},
   "outputs": [],
   "source": [
    "tr = summarizer(liststext[0],min_length=70)"
   ]
  },
  {
   "cell_type": "code",
   "execution_count": 59,
   "metadata": {},
   "outputs": [
    {
     "data": {
      "text/plain": [
       "68"
      ]
     },
     "execution_count": 59,
     "metadata": {},
     "output_type": "execute_result"
    }
   ],
   "source": [
    "len(tr[0]['summary_text'].split())"
   ]
  }
 ],
 "metadata": {
  "kernelspec": {
   "display_name": "Python 3.9.10 64-bit",
   "language": "python",
   "name": "python3"
  },
  "language_info": {
   "codemirror_mode": {
    "name": "ipython",
    "version": 3
   },
   "file_extension": ".py",
   "mimetype": "text/x-python",
   "name": "python",
   "nbconvert_exporter": "python",
   "pygments_lexer": "ipython3",
   "version": "3.9.10"
  },
  "orig_nbformat": 4,
  "vscode": {
   "interpreter": {
    "hash": "e2aae14933474253bf7e204dfdcd59c9e221c3358c06c5af46c0ae09e251b4f0"
   }
  }
 },
 "nbformat": 4,
 "nbformat_minor": 2
}
