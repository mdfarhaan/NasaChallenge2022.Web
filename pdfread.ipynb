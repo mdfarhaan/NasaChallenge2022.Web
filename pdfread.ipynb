{
 "cells": [
  {
   "cell_type": "code",
   "execution_count": 1,
   "metadata": {},
   "outputs": [
    {
     "name": "stdout",
     "output_type": "stream",
     "text": [
      "Collecting PyPDF2\n",
      "  Downloading PyPDF2-2.11.0-py3-none-any.whl (220 kB)\n",
      "     ------------------------------------ 220.2/220.2 KB 747.3 kB/s eta 0:00:00\n",
      "Requirement already satisfied: typing-extensions>=3.10.0.0 in d:\\python\\lib\\site-packages (from PyPDF2) (4.3.0)\n",
      "Installing collected packages: PyPDF2\n",
      "Successfully installed PyPDF2-2.11.0\n"
     ]
    },
    {
     "name": "stderr",
     "output_type": "stream",
     "text": [
      "WARNING: You are using pip version 22.0.3; however, version 22.2.2 is available.\n",
      "You should consider upgrading via the 'D:\\PYTHON\\python.exe -m pip install --upgrade pip' command.\n"
     ]
    }
   ],
   "source": [
    "!pip install PyPDF2"
   ]
  },
  {
   "cell_type": "code",
   "execution_count": 2,
   "metadata": {},
   "outputs": [],
   "source": [
    "import PyPDF2"
   ]
  },
  {
   "cell_type": "code",
   "execution_count": 3,
   "metadata": {},
   "outputs": [],
   "source": [
    "f = open('NASA-test-pdf.pdf','rb')"
   ]
  },
  {
   "cell_type": "code",
   "execution_count": 4,
   "metadata": {},
   "outputs": [],
   "source": [
    "fileReader = PyPDF2.PdfFileReader(f)"
   ]
  },
  {
   "cell_type": "code",
   "execution_count": 5,
   "metadata": {},
   "outputs": [
    {
     "data": {
      "text/plain": [
       "124"
      ]
     },
     "execution_count": 5,
     "metadata": {},
     "output_type": "execute_result"
    }
   ],
   "source": [
    "fileReader.numPages"
   ]
  },
  {
   "cell_type": "code",
   "execution_count": 6,
   "metadata": {},
   "outputs": [
    {
     "data": {
      "text/plain": [
       "['__class__',\n",
       " '__delattr__',\n",
       " '__dict__',\n",
       " '__dir__',\n",
       " '__doc__',\n",
       " '__eq__',\n",
       " '__format__',\n",
       " '__ge__',\n",
       " '__getattribute__',\n",
       " '__gt__',\n",
       " '__hash__',\n",
       " '__init__',\n",
       " '__init_subclass__',\n",
       " '__le__',\n",
       " '__lt__',\n",
       " '__module__',\n",
       " '__ne__',\n",
       " '__new__',\n",
       " '__reduce__',\n",
       " '__reduce_ex__',\n",
       " '__repr__',\n",
       " '__setattr__',\n",
       " '__sizeof__',\n",
       " '__str__',\n",
       " '__subclasshook__',\n",
       " '__weakref__',\n",
       " '_basic_validation',\n",
       " '_build_destination',\n",
       " '_build_field',\n",
       " '_build_outline_item',\n",
       " '_check_kids',\n",
       " '_encryption',\n",
       " '_find_eof_marker',\n",
       " '_find_startxref_pos',\n",
       " '_flatten',\n",
       " '_get_indirect_object',\n",
       " '_get_named_destinations',\n",
       " '_get_num_pages',\n",
       " '_get_object_from_stream',\n",
       " '_get_outline',\n",
       " '_get_page',\n",
       " '_get_page_number_by_indirect',\n",
       " '_get_xref_issues',\n",
       " '_override_encryption',\n",
       " '_page_id2num',\n",
       " '_pairs',\n",
       " '_read_pdf15_xref_stream',\n",
       " '_read_standard_xref_table',\n",
       " '_read_xref',\n",
       " '_read_xref_other_error',\n",
       " '_read_xref_subsections',\n",
       " '_read_xref_tables_and_trailers',\n",
       " '_rebuild_xref_table',\n",
       " '_write_field',\n",
       " 'cacheGetIndirectObject',\n",
       " 'cacheIndirectObject',\n",
       " 'cache_get_indirect_object',\n",
       " 'cache_indirect_object',\n",
       " 'decode_permissions',\n",
       " 'decrypt',\n",
       " 'documentInfo',\n",
       " 'flattened_pages',\n",
       " 'getDestinationPageNumber',\n",
       " 'getDocumentInfo',\n",
       " 'getFields',\n",
       " 'getFormTextFields',\n",
       " 'getIsEncrypted',\n",
       " 'getNamedDestinations',\n",
       " 'getNumPages',\n",
       " 'getObject',\n",
       " 'getOutlines',\n",
       " 'getPage',\n",
       " 'getPageLayout',\n",
       " 'getPageMode',\n",
       " 'getPageNumber',\n",
       " 'getXmpMetadata',\n",
       " 'get_destination_page_number',\n",
       " 'get_fields',\n",
       " 'get_form_text_fields',\n",
       " 'get_object',\n",
       " 'get_page_number',\n",
       " 'isEncrypted',\n",
       " 'is_encrypted',\n",
       " 'metadata',\n",
       " 'namedDestinations',\n",
       " 'named_destinations',\n",
       " 'numPages',\n",
       " 'outline',\n",
       " 'outlines',\n",
       " 'pageLayout',\n",
       " 'pageMode',\n",
       " 'page_layout',\n",
       " 'page_mode',\n",
       " 'pages',\n",
       " 'pdf_header',\n",
       " 'read',\n",
       " 'readNextEndLine',\n",
       " 'readObjectHeader',\n",
       " 'read_next_end_line',\n",
       " 'read_object_header',\n",
       " 'resolved_objects',\n",
       " 'stream',\n",
       " 'strict',\n",
       " 'trailer',\n",
       " 'xfa',\n",
       " 'xmpMetadata',\n",
       " 'xmp_metadata',\n",
       " 'xref',\n",
       " 'xref_free_entry',\n",
       " 'xref_index',\n",
       " 'xref_objStm']"
      ]
     },
     "execution_count": 6,
     "metadata": {},
     "output_type": "execute_result"
    }
   ],
   "source": [
    "dir(fileReader)"
   ]
  },
  {
   "cell_type": "markdown",
   "metadata": {},
   "source": [
    "- Here we are not worring about the images now. only textual info is being considered now."
   ]
  },
  {
   "cell_type": "code",
   "execution_count": 14,
   "metadata": {},
   "outputs": [
    {
     "data": {
      "text/plain": [
       "['\\\\\\n', '']"
      ]
     },
     "execution_count": 14,
     "metadata": {},
     "output_type": "execute_result"
    }
   ],
   "source": [
    "page_list=[]\n",
    "# len of array = num of pages in pdf\n",
    "for i in fileReader.pages:\n",
    "    page_list.append(i.extract_text())\n",
    "page_list[:2]"
   ]
  },
  {
   "cell_type": "code",
   "execution_count": 20,
   "metadata": {},
   "outputs": [
    {
     "name": "stdout",
     "output_type": "stream",
     "text": [
      "pagenumber\n",
      "\\\n",
      "\n",
      "pagenumber\n",
      "\n",
      "pagenumber\n",
      "(Nasa Langle y Scientiﬁc And Technical Information\n",
      "Output: 1996\n",
      "https:/ /ntrs.nasa.go v/api/citations/19970014224/downloads/19970014224.pdf\n",
      ")\n",
      "\n",
      "pagenumber\n",
      "In 2019, Micr osoft announced its\n",
      "AI for Cultur al Heritage\n",
      "program, aiming t o preser ve\n",
      "and tr easur e people, places, and hist orical ar tifacts thr ough AI technology and\n",
      "collabor ation with cultur al nonpr oﬁt or ganizations.“\n",
      "“Preser ving cultur al heritage isn ’t something that is solely nice t o ha ve\n",
      "or nice t o do, it’ s sometimes imper ative to the well-being of the world’ s\n",
      "societies. ”\n",
      "— Brad Smith, President of Microsoft\n",
      "Accor ding t o Poonam Gandhi, a pr ofessor at\n",
      "Flame Univ ersity\n",
      ",\n",
      "cultur e and heritages\n",
      "shape human society and pr ovide a sense of identity .\n",
      "Speciﬁcally , cultur al heritage can\n",
      "\n",
      "pagenumber\n",
      "stimulate t ourism, which beneﬁts local economies, educates people with cultur e and\n",
      "history, and enhances social inclusiv eness.\n",
      "While the impor tance of pr eser ving cultur al heritage is ob vious, people ar e facing\n",
      "diﬃculties in the pr eser vation pr ocess. So, what can AI and other modern technologies\n",
      "actually do in the pr ocess of pr eser ving cultur al heritages that mak es Micr osoft and\n",
      "other or ganizations inv est in them?\n",
      "ANTIQUES REST ORA TION\n",
      "Due t o natur al disasters or man-made damages during the war , a gr eat deal of pr ecious\n",
      "historical sites and ar tifacts ha ve been damaged be yond r epair . It is diﬃcult t o repair\n",
      "damaged sites, as it ma y tak e several gener ations of individuals working on these\n",
      "projects due t o time, cost, and the lack of information on how the original work actually\n",
      "look ed.  Rebuilding cultur al heritage sites and ar tifacts is similar t o solving a big jigsaw\n",
      "puzzle without knowing what it should look lik e – e verything star ts from scr atch and\n",
      "guesses.\n",
      "RePAIR\n",
      "The ancient Roman city of\n",
      "Pompeii\n",
      ",\n",
      "which was destr oyed\n",
      "and buried b y the eruption of\n",
      "Mount V esuvius in A.D . 79, is now only left with the incomplete ar chitectur e and\n",
      "thousands of irr egular fr agments of ancient ar tifacts, such as v ases and fr escoes.\n",
      "\n"
     ]
    }
   ],
   "source": [
    "for i in page_list[:5]:\n",
    "    print(\"pagenumber\")\n",
    "    print(i)"
   ]
  },
  {
   "cell_type": "code",
   "execution_count": 21,
   "metadata": {},
   "outputs": [],
   "source": [
    "from transformers import pipeline"
   ]
  },
  {
   "cell_type": "code",
   "execution_count": 22,
   "metadata": {},
   "outputs": [
    {
     "name": "stderr",
     "output_type": "stream",
     "text": [
      "No model was supplied, defaulted to sshleifer/distilbart-cnn-12-6 and revision a4f8f3e (https://huggingface.co/sshleifer/distilbart-cnn-12-6).\n",
      "Using a pipeline without specifying a model name and revision in production is not recommended.\n"
     ]
    }
   ],
   "source": [
    "summarizer = pipeline('summarization')"
   ]
  },
  {
   "cell_type": "code",
   "execution_count": 27,
   "metadata": {},
   "outputs": [],
   "source": [
    "fileexp = open('E:/srm/srm_subs/networking/exp_3_and_4.pdf','rb')"
   ]
  },
  {
   "cell_type": "code",
   "execution_count": 31,
   "metadata": {},
   "outputs": [],
   "source": [
    "reader = PyPDF2.PdfFileReader(fileexp)"
   ]
  },
  {
   "cell_type": "code",
   "execution_count": 32,
   "metadata": {},
   "outputs": [],
   "source": [
    "liststext = [ ]\n",
    "for i in reader.pages:\n",
    "    liststext.append(i.extract_text())"
   ]
  },
  {
   "cell_type": "code",
   "execution_count": 50,
   "metadata": {},
   "outputs": [
    {
     "data": {
      "text/plain": [
       "129.5"
      ]
     },
     "execution_count": 50,
     "metadata": {},
     "output_type": "execute_result"
    }
   ],
   "source": [
    "len(liststext[0].split())/2"
   ]
  },
  {
   "cell_type": "code",
   "execution_count": 58,
   "metadata": {},
   "outputs": [],
   "source": [
    "tr = summarizer(liststext[0],min_length=70)"
   ]
  },
  {
   "cell_type": "code",
   "execution_count": 59,
   "metadata": {},
   "outputs": [
    {
     "data": {
      "text/plain": [
       "68"
      ]
     },
     "execution_count": 59,
     "metadata": {},
     "output_type": "execute_result"
    }
   ],
   "source": [
    "len(tr[0]['summary_text'].split())"
   ]
  },
  {
   "cell_type": "code",
   "execution_count": 4,
   "metadata": {},
   "outputs": [],
   "source": [
    "import urllib"
   ]
  },
  {
   "cell_type": "code",
   "execution_count": 20,
   "metadata": {},
   "outputs": [],
   "source": [
    "url = 'https://drive.google.com/drive/u/0/search?q=type:pdf'\n",
    "pdf = urllib.request.urlopen(urllib.request.Request(url)).read()"
   ]
  },
  {
   "cell_type": "code",
   "execution_count": 18,
   "metadata": {},
   "outputs": [],
   "source": [
    "import urllib\n",
    "\n",
    "def download_file(download_url):\n",
    "    web_file = urllib.request.urlopen(download_url)\n",
    "    local_file = open('a.pdf', 'wb')\n",
    "    local_file.write(web_file.read())\n",
    "    web_file.close()\n",
    "    local_file.close()\n"
   ]
  },
  {
   "cell_type": "code",
   "execution_count": 19,
   "metadata": {},
   "outputs": [],
   "source": [
    "download_file('https://drive.google.com/file/d/1tQvZVIBuzaMmNGd1wDjisKSbNZ7CBSHY/view?usp=sharing')"
   ]
  },
  {
   "cell_type": "code",
   "execution_count": null,
   "metadata": {},
   "outputs": [],
   "source": [
    "import Py"
   ]
  },
  {
   "cell_type": "code",
   "execution_count": 26,
   "metadata": {},
   "outputs": [
    {
     "name": "stderr",
     "output_type": "stream",
     "text": [
      "ERROR: Could not find a version that satisfies the requirement StringIO (from versions: none)\n",
      "ERROR: No matching distribution found for StringIO\n",
      "WARNING: You are using pip version 22.0.3; however, version 22.2.2 is available.\n",
      "You should consider upgrading via the 'D:\\PYTHON\\python.exe -m pip install --upgrade pip' command.\n"
     ]
    }
   ],
   "source": [
    "!pip install StringIO"
   ]
  },
  {
   "cell_type": "code",
   "execution_count": 70,
   "metadata": {},
   "outputs": [
    {
     "ename": "TypeError",
     "evalue": "initial_value must be str or None, not bytes",
     "output_type": "error",
     "traceback": [
      "\u001b[1;31m---------------------------------------------------------------------------\u001b[0m",
      "\u001b[1;31mTypeError\u001b[0m                                 Traceback (most recent call last)",
      "\u001b[1;32md:\\nasa_spacehack\\finalfiles\\pdfread.ipynb Cell 24\u001b[0m in \u001b[0;36m<module>\u001b[1;34m\u001b[0m\n\u001b[0;32m     <a href='vscode-notebook-cell:/d%3A/nasa_spacehack/finalfiles/pdfread.ipynb#X34sZmlsZQ%3D%3D?line=11'>12</a>\u001b[0m newfile\u001b[39m.\u001b[39mwrite(remoteFile)\n\u001b[0;32m     <a href='vscode-notebook-cell:/d%3A/nasa_spacehack/finalfiles/pdfread.ipynb#X34sZmlsZQ%3D%3D?line=12'>13</a>\u001b[0m newfile\u001b[39m.\u001b[39mclose()\n\u001b[1;32m---> <a href='vscode-notebook-cell:/d%3A/nasa_spacehack/finalfiles/pdfread.ipynb#X34sZmlsZQ%3D%3D?line=13'>14</a>\u001b[0m memoryFile \u001b[39m=\u001b[39m StringIO(remoteFile)\n\u001b[0;32m     <a href='vscode-notebook-cell:/d%3A/nasa_spacehack/finalfiles/pdfread.ipynb#X34sZmlsZQ%3D%3D?line=14'>15</a>\u001b[0m pdfFile \u001b[39m=\u001b[39m PdfFileReader(memoryFile)\n\u001b[0;32m     <a href='vscode-notebook-cell:/d%3A/nasa_spacehack/finalfiles/pdfread.ipynb#X34sZmlsZQ%3D%3D?line=16'>17</a>\u001b[0m \u001b[39mfor\u001b[39;00m pageNum \u001b[39min\u001b[39;00m \u001b[39mrange\u001b[39m(pdfFile\u001b[39m.\u001b[39mgetNumPages()):\n",
      "\u001b[1;31mTypeError\u001b[0m: initial_value must be str or None, not bytes"
     ]
    }
   ],
   "source": [
    "from urllib.request import Request, urlopen\n",
    "from PyPDF2 import PdfFileWriter, PdfFileReader\n",
    "from io import StringIO\n",
    "\n",
    "# url = \"https://alex.smola.org/drafts/thebook.pdf\"\n",
    "url = 'https://doc-0c-2c-prod-03-apps-viewer.googleusercontent.com/viewer2/prod-03/pdf/9jn1e0jcb4vuhlg2rg91j1rkel93775u/jdslu3fdm904jf00s88jviollq5lj7qq/1664634000000/3/*/APznzaZjmDhh-2YM8NCN4_g2PwbQnvEvPkTDC9Q3H9ffqn47r551wvZ5pLpd_e9GQNaG2evnY3VhP5C1wzK2TRovD9xLrMgq--XeZo4q28pVCwh5Wbdz9Gk_ykUUbe8PBD2NaQTeGi_qMbSESp86cDxYP6k8XEwywie8DK7EHdEl17CXEruJ49FLwGFzR8MJ3qUPYip0ybcEc8X2Tyc5s08ft2sqyl6KMyy8jrSLv0J9KMCS0xaW-0vYn7G2PDqQjx2YflnJjjQD8ucdqfCkr2MNMSoqjnMnJCLDjJQ4xAam68YPLY8qoS_WFhZT9O5EMEm463QQ2eukgNGOLIx0oVFhL6TMe1M6jISCDkcp_7_85w3xD4293xiJnG-dYkOAGOfInMGzj5oz?authuser'\n",
    "writer = PdfFileWriter()\n",
    "\n",
    "remoteFile = urlopen(Request(url)).read()\n",
    "# print(remoteFile)\n",
    "newfile = open('newfile.pdf','wb')\n",
    "newfile.write(remoteFile)\n",
    "newfile.close()\n",
    "# memoryFile = StringIO(remoteFile)\n",
    "# pdfFile = PdfFileReader(memoryFile)\n",
    "\n",
    "# for pageNum in range(pdfFile.getNumPages()):\n",
    "#         currentPage = pdfFile.getPage(pageNum)\n",
    "#         #currentPage.mergePage(watermark.getPage(0))\n",
    "#         writer.addPage(currentPage)\n",
    "\n",
    "\n",
    "# outputStream = open(\"output.pdf\",\"wb\")\n",
    "# writer.write(outputStream)\n",
    "# outputStream.close()"
   ]
  },
  {
   "cell_type": "code",
   "execution_count": 49,
   "metadata": {},
   "outputs": [],
   "source": [
    "string = remoteFile.read()"
   ]
  },
  {
   "cell_type": "code",
   "execution_count": 50,
   "metadata": {},
   "outputs": [],
   "source": [
    "import io"
   ]
  },
  {
   "cell_type": "code",
   "execution_count": 56,
   "metadata": {},
   "outputs": [],
   "source": [
    "stream = io.BytesIO(string)"
   ]
  },
  {
   "cell_type": "code",
   "execution_count": 66,
   "metadata": {},
   "outputs": [
    {
     "data": {
      "text/plain": [
       "0"
      ]
     },
     "execution_count": 66,
     "metadata": {},
     "output_type": "execute_result"
    }
   ],
   "source": [
    "stream.seek(0)"
   ]
  },
  {
   "cell_type": "code",
   "execution_count": 67,
   "metadata": {},
   "outputs": [],
   "source": [
    "newstream = stream.read1()"
   ]
  },
  {
   "cell_type": "code",
   "execution_count": null,
   "metadata": {},
   "outputs": [],
   "source": [
    "newstream"
   ]
  },
  {
   "cell_type": "code",
   "execution_count": 29,
   "metadata": {},
   "outputs": [
    {
     "ename": "HTTPError",
     "evalue": "HTTP Error 403: Forbidden",
     "output_type": "error",
     "traceback": [
      "\u001b[1;31m---------------------------------------------------------------------------\u001b[0m",
      "\u001b[1;31mHTTPError\u001b[0m                                 Traceback (most recent call last)",
      "\u001b[1;32md:\\nasa_spacehack\\finalfiles\\pdfread.ipynb Cell 25\u001b[0m in \u001b[0;36m<module>\u001b[1;34m\u001b[0m\n\u001b[0;32m      <a href='vscode-notebook-cell:/d%3A/nasa_spacehack/finalfiles/pdfread.ipynb#X41sZmlsZQ%3D%3D?line=2'>3</a>\u001b[0m \u001b[39m# url = 'https://drive.google.com/file/d/1tQvZVIBuzaMmNGd1wDjisKSbNZ7CBSHY/view?usp=sharing'\u001b[39;00m\n\u001b[0;32m      <a href='vscode-notebook-cell:/d%3A/nasa_spacehack/finalfiles/pdfread.ipynb#X41sZmlsZQ%3D%3D?line=3'>4</a>\u001b[0m url \u001b[39m=\u001b[39m \u001b[39m'\u001b[39m\u001b[39mhttps://alex.smola.org/drafts/thebook.pdf\u001b[39m\u001b[39m'\u001b[39m\n\u001b[1;32m----> <a href='vscode-notebook-cell:/d%3A/nasa_spacehack/finalfiles/pdfread.ipynb#X41sZmlsZQ%3D%3D?line=4'>5</a>\u001b[0m webFile \u001b[39m=\u001b[39m urllib\u001b[39m.\u001b[39;49mrequest\u001b[39m.\u001b[39;49murlopen(url)\n\u001b[0;32m      <a href='vscode-notebook-cell:/d%3A/nasa_spacehack/finalfiles/pdfread.ipynb#X41sZmlsZQ%3D%3D?line=5'>6</a>\u001b[0m pdfFile \u001b[39m=\u001b[39m \u001b[39mopen\u001b[39m(url\u001b[39m.\u001b[39msplit(\u001b[39m'\u001b[39m\u001b[39m/\u001b[39m\u001b[39m'\u001b[39m)[\u001b[39m-\u001b[39m\u001b[39m1\u001b[39m], \u001b[39m'\u001b[39m\u001b[39mw\u001b[39m\u001b[39m'\u001b[39m)\n\u001b[0;32m      <a href='vscode-notebook-cell:/d%3A/nasa_spacehack/finalfiles/pdfread.ipynb#X41sZmlsZQ%3D%3D?line=6'>7</a>\u001b[0m pdfFile\u001b[39m.\u001b[39mwrite(webFile\u001b[39m.\u001b[39mread())\n",
      "File \u001b[1;32md:\\PYTHON\\lib\\urllib\\request.py:214\u001b[0m, in \u001b[0;36murlopen\u001b[1;34m(url, data, timeout, cafile, capath, cadefault, context)\u001b[0m\n\u001b[0;32m    212\u001b[0m \u001b[39melse\u001b[39;00m:\n\u001b[0;32m    213\u001b[0m     opener \u001b[39m=\u001b[39m _opener\n\u001b[1;32m--> 214\u001b[0m \u001b[39mreturn\u001b[39;00m opener\u001b[39m.\u001b[39;49mopen(url, data, timeout)\n",
      "File \u001b[1;32md:\\PYTHON\\lib\\urllib\\request.py:523\u001b[0m, in \u001b[0;36mOpenerDirector.open\u001b[1;34m(self, fullurl, data, timeout)\u001b[0m\n\u001b[0;32m    521\u001b[0m \u001b[39mfor\u001b[39;00m processor \u001b[39min\u001b[39;00m \u001b[39mself\u001b[39m\u001b[39m.\u001b[39mprocess_response\u001b[39m.\u001b[39mget(protocol, []):\n\u001b[0;32m    522\u001b[0m     meth \u001b[39m=\u001b[39m \u001b[39mgetattr\u001b[39m(processor, meth_name)\n\u001b[1;32m--> 523\u001b[0m     response \u001b[39m=\u001b[39m meth(req, response)\n\u001b[0;32m    525\u001b[0m \u001b[39mreturn\u001b[39;00m response\n",
      "File \u001b[1;32md:\\PYTHON\\lib\\urllib\\request.py:632\u001b[0m, in \u001b[0;36mHTTPErrorProcessor.http_response\u001b[1;34m(self, request, response)\u001b[0m\n\u001b[0;32m    629\u001b[0m \u001b[39m# According to RFC 2616, \"2xx\" code indicates that the client's\u001b[39;00m\n\u001b[0;32m    630\u001b[0m \u001b[39m# request was successfully received, understood, and accepted.\u001b[39;00m\n\u001b[0;32m    631\u001b[0m \u001b[39mif\u001b[39;00m \u001b[39mnot\u001b[39;00m (\u001b[39m200\u001b[39m \u001b[39m<\u001b[39m\u001b[39m=\u001b[39m code \u001b[39m<\u001b[39m \u001b[39m300\u001b[39m):\n\u001b[1;32m--> 632\u001b[0m     response \u001b[39m=\u001b[39m \u001b[39mself\u001b[39;49m\u001b[39m.\u001b[39;49mparent\u001b[39m.\u001b[39;49merror(\n\u001b[0;32m    633\u001b[0m         \u001b[39m'\u001b[39;49m\u001b[39mhttp\u001b[39;49m\u001b[39m'\u001b[39;49m, request, response, code, msg, hdrs)\n\u001b[0;32m    635\u001b[0m \u001b[39mreturn\u001b[39;00m response\n",
      "File \u001b[1;32md:\\PYTHON\\lib\\urllib\\request.py:561\u001b[0m, in \u001b[0;36mOpenerDirector.error\u001b[1;34m(self, proto, *args)\u001b[0m\n\u001b[0;32m    559\u001b[0m \u001b[39mif\u001b[39;00m http_err:\n\u001b[0;32m    560\u001b[0m     args \u001b[39m=\u001b[39m (\u001b[39mdict\u001b[39m, \u001b[39m'\u001b[39m\u001b[39mdefault\u001b[39m\u001b[39m'\u001b[39m, \u001b[39m'\u001b[39m\u001b[39mhttp_error_default\u001b[39m\u001b[39m'\u001b[39m) \u001b[39m+\u001b[39m orig_args\n\u001b[1;32m--> 561\u001b[0m     \u001b[39mreturn\u001b[39;00m \u001b[39mself\u001b[39;49m\u001b[39m.\u001b[39;49m_call_chain(\u001b[39m*\u001b[39;49margs)\n",
      "File \u001b[1;32md:\\PYTHON\\lib\\urllib\\request.py:494\u001b[0m, in \u001b[0;36mOpenerDirector._call_chain\u001b[1;34m(self, chain, kind, meth_name, *args)\u001b[0m\n\u001b[0;32m    492\u001b[0m \u001b[39mfor\u001b[39;00m handler \u001b[39min\u001b[39;00m handlers:\n\u001b[0;32m    493\u001b[0m     func \u001b[39m=\u001b[39m \u001b[39mgetattr\u001b[39m(handler, meth_name)\n\u001b[1;32m--> 494\u001b[0m     result \u001b[39m=\u001b[39m func(\u001b[39m*\u001b[39;49margs)\n\u001b[0;32m    495\u001b[0m     \u001b[39mif\u001b[39;00m result \u001b[39mis\u001b[39;00m \u001b[39mnot\u001b[39;00m \u001b[39mNone\u001b[39;00m:\n\u001b[0;32m    496\u001b[0m         \u001b[39mreturn\u001b[39;00m result\n",
      "File \u001b[1;32md:\\PYTHON\\lib\\urllib\\request.py:641\u001b[0m, in \u001b[0;36mHTTPDefaultErrorHandler.http_error_default\u001b[1;34m(self, req, fp, code, msg, hdrs)\u001b[0m\n\u001b[0;32m    640\u001b[0m \u001b[39mdef\u001b[39;00m \u001b[39mhttp_error_default\u001b[39m(\u001b[39mself\u001b[39m, req, fp, code, msg, hdrs):\n\u001b[1;32m--> 641\u001b[0m     \u001b[39mraise\u001b[39;00m HTTPError(req\u001b[39m.\u001b[39mfull_url, code, msg, hdrs, fp)\n",
      "\u001b[1;31mHTTPError\u001b[0m: HTTP Error 403: Forbidden"
     ]
    }
   ],
   "source": [
    "import urllib\n",
    "import os\n",
    "# url = 'https://drive.google.com/file/d/1tQvZVIBuzaMmNGd1wDjisKSbNZ7CBSHY/view?usp=sharing'\n",
    "# url = 'https://alex.smola.org/drafts/thebook.pdf'\n",
    "\n",
    "webFile = urllib.request.urlopen(url)\n",
    "pdfFile = open(url.split('/')[-1], 'w')\n",
    "pdfFile.write(webFile.read())\n",
    "webFile.close()\n",
    "pdfFile.close()\n",
    "\n",
    "base = os.path.splitext(pdfFile)[0]\n",
    "os.rename(pdfFile, base + \".pdf\")\n",
    "\n",
    "input1 = PdfFileReader(open(pdfFile, \"rb\"))"
   ]
  }
 ],
 "metadata": {
  "kernelspec": {
   "display_name": "Python 3.9.10 64-bit",
   "language": "python",
   "name": "python3"
  },
  "language_info": {
   "codemirror_mode": {
    "name": "ipython",
    "version": 3
   },
   "file_extension": ".py",
   "mimetype": "text/x-python",
   "name": "python",
   "nbconvert_exporter": "python",
   "pygments_lexer": "ipython3",
   "version": "3.9.10"
  },
  "orig_nbformat": 4,
  "vscode": {
   "interpreter": {
    "hash": "e2aae14933474253bf7e204dfdcd59c9e221c3358c06c5af46c0ae09e251b4f0"
   }
  }
 },
 "nbformat": 4,
 "nbformat_minor": 2
}
