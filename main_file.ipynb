{
 "cells": [
  {
   "cell_type": "code",
   "execution_count": null,
   "metadata": {},
   "outputs": [],
   "source": [
    "# !pip install git+https://github.com/LIAAD/yake\n",
    "# !pip install PyMuPDF Pillow"
   ]
  },
  {
   "cell_type": "code",
   "execution_count": 1,
   "metadata": {},
   "outputs": [],
   "source": [
    "import yake\n",
    "text=''"
   ]
  },
  {
   "cell_type": "code",
   "execution_count": 2,
   "metadata": {},
   "outputs": [],
   "source": [
    "import fitz\n",
    "import io\n",
    "from PIL import Image\n",
    "import numpy as np\n",
    "import pytesseract"
   ]
  },
  {
   "cell_type": "code",
   "execution_count": 12,
   "metadata": {},
   "outputs": [],
   "source": [
    "pytesseract.pytesseract.tesseract_cmd = 'D:/Tesseract-OCR'"
   ]
  },
  {
   "cell_type": "code",
   "execution_count": 3,
   "metadata": {},
   "outputs": [],
   "source": [
    "def getKeyWords(text):\n",
    "    language = \"en\"\n",
    "    max_ngram_size = 3\n",
    "    deduplication_threshold = 0.9\n",
    "    deduplication_algo = 'seqm'\n",
    "    windowSize = 1\n",
    "    numOfKeywords = 20\n",
    "\n",
    "    custom_kw_extractor = yake.KeywordExtractor(lan=language, n=max_ngram_size, dedupLim=deduplication_threshold, dedupFunc=deduplication_algo, windowsSize=windowSize, top=numOfKeywords, features=None)\n",
    "    keywords = custom_kw_extractor.extract_keywords(text)\n",
    "    \n",
    "    return keywords"
   ]
  },
  {
   "cell_type": "code",
   "execution_count": 4,
   "metadata": {},
   "outputs": [],
   "source": [
    "def getImgDescp(filename):\n",
    "    pdf_file = fitz.open(filename)\n",
    "    pdf_image_list=[]\n",
    "    imgdescps=[]\n",
    "\n",
    "    for page_index in range(len(pdf_file)):\n",
    "    \n",
    "        page = pdf_file[page_index]\n",
    "        image_list = pdf_file.get_page_images(page_index)\n",
    "        if image_list:\n",
    "            pdf_image_list.append(image_list)\n",
    "            \n",
    "        for image_index, img in enumerate(pdf_file.get_page_images(page), start=1):\n",
    "            xref = img[0]\n",
    "            pix = fitz.Pixmap(pdf_file,xref)\n",
    "            piximg = Image.frombytes(\"RGB\", [pix.width, pix.height], pix.samples)\n",
    "            # piximgarr = np.array(pix)\n",
    "            decp=''\n",
    "            decp=pytesseract.image_to_string(piximg)\n",
    "            imgdescps.append(decp)\n",
    "            # base_image = pdf_file.extract_image(xref)\n",
    "            # image_bytes = base_image['image']\n",
    "            \n",
    "            # image_ext = base_image['ext']\n",
    "            \n",
    "            \n",
    "    return imgdescps"
   ]
  },
  {
   "cell_type": "code",
   "execution_count": 5,
   "metadata": {},
   "outputs": [
    {
     "name": "stderr",
     "output_type": "stream",
     "text": [
      "d:\\PYTHON\\lib\\site-packages\\tqdm\\auto.py:22: TqdmWarning: IProgress not found. Please update jupyter and ipywidgets. See https://ipywidgets.readthedocs.io/en/stable/user_install.html\n",
      "  from .autonotebook import tqdm as notebook_tqdm\n"
     ]
    }
   ],
   "source": [
    "import spacy\n",
    "import pytextrank"
   ]
  },
  {
   "cell_type": "code",
   "execution_count": 6,
   "metadata": {},
   "outputs": [],
   "source": [
    "def getsummary(text):\n",
    "    nlp = spacy.load('en_core_web_sm')\n",
    "    nlp.add_pipe('textrank')\n",
    "    doc = nlp(text)\n",
    "    summ1 = list(doc._.textrank.summary())\n",
    "    tostring = lambda sent:sent.text\n",
    "    summary = list(map(tostring,summ1))\n",
    "    summary = ' '.join(summary)\n",
    "    return summary"
   ]
  },
  {
   "cell_type": "code",
   "execution_count": 7,
   "metadata": {},
   "outputs": [],
   "source": [
    "import PyPDF2"
   ]
  },
  {
   "cell_type": "code",
   "execution_count": 14,
   "metadata": {},
   "outputs": [],
   "source": [
    "def getabstract(filereader):\n",
    "    fulltext = []\n",
    "    for i in filereader.pages:\n",
    "        fulltext+= [i.extract_text()]\n",
    "        currpage = i.extract_text().lower()\n",
    "        if 'abstract' in currpage:\n",
    "            abstract = currpage[currpage.find('abstract'):]\n",
    "            # print('abstrat',abstract)\n",
    "            return abstract\n",
    "        if 'a b s t r a c t' in currpage:\n",
    "            abstract = currpage[currpage.find('a b s t r a c t'):]\n",
    "            # print('abstract',abstract)\n",
    "            return abstract\n",
    "    \n",
    "    return ' '.join(fulltext[:4])\n",
    "    "
   ]
  },
  {
   "cell_type": "code",
   "execution_count": 19,
   "metadata": {},
   "outputs": [],
   "source": [
    "def main(filename):\n",
    "    text=''\n",
    "    # filename=''\n",
    "    file = open(filename,'rb')\n",
    "    filereader = PyPDF2.PdfReader(file)\n",
    "    text = getabstract(filereader)\n",
    "    resp = {'summary':'','keywords':'',\"img_descp\":''}\n",
    "    resp['keywords'] = getKeyWords(text)\n",
    "    # print(resp['keywords'],'\\n\\n')\n",
    "    resp['summary']= getsummary(text)\n",
    "    print(resp['summary'])\n",
    "    resp['img_descp'] = getImgDescp(filename)\n",
    "    return resp"
   ]
  },
  {
   "cell_type": "code",
   "execution_count": 20,
   "metadata": {},
   "outputs": [
    {
     "data": {
      "text/plain": [
       "{'summary': 'funding:  hong kong council on smoking  and health. \\n published  by elsevier  ltd. \\nthis is an open access article under the cc by-nc-nd  license \\n( http://creativecommons.org/licenses/by-nc-nd/4.0/  ) \\n∗corresponding  author : man ping wang, phd, school of nursing, the university  \\nof hong kong, 21 sassoon road, pokfulam,  hong kong sar, china \\ne-mail address: mpwang@hku.hk  (m.p. wang). \\n a b s t r a c t \\nbackground:  many smokers  do not use existing  free or low-cost  smoking  cessation  services,  cost-effective  \\ninterventions  to increase  use are needed.  \\nmethods:  we did a 2-armed  cluster randomised  controlled  trial (crct) in hong kong, china, to evaluate  \\nthe effectiveness  of active referral plus a small ﬁnancial  incentive  on abstinence.   the intervention  group received  an offer \\nof active referral to cessation  services  at baseline  plus an incentive  (hk$300/us$38)  after using any ces- \\nsation services  within 3 months.  ',\n",
       " 'keywords': [('existing free', 0.04543047352237518),\n",
       "  ('months', 0.07473247277749757),\n",
       "  ('group', 0.0867775842760595),\n",
       "  ('cost-effective interventions', 0.0937243340100575),\n",
       "  ('abstinence', 0.09796209773461051),\n",
       "  ('cessation', 0.10348006714552267),\n",
       "  ('cessation services', 0.10983264613019007),\n",
       "  ('validated abstinence', 0.1115344865433461),\n",
       "  ('intervention', 0.1148038552872545),\n",
       "  ('control', 0.11898756540683254),\n",
       "  ('intervention group', 0.12441307087359173),\n",
       "  ('active referral', 0.12807342065748922),\n",
       "  ('control group', 0.1301269250924305),\n",
       "  ('smoking', 0.1367546187519203),\n",
       "  ('smokers', 0.13870960264693094),\n",
       "  ('cluster randomised controlled', 0.14059549018711448),\n",
       "  ('services', 0.14503834294068893),\n",
       "  ('smoking cessation', 0.14634726173303256),\n",
       "  ('active', 0.14796005777264618),\n",
       "  ('group received', 0.14837563147637553)],\n",
       " 'img_descp': ''}"
      ]
     },
     "execution_count": 20,
     "metadata": {},
     "output_type": "execute_result"
    }
   ],
   "source": [
    "main('./Active-referral-plus-a-small-financial-incentive-upon-c_2021_The-Lancet-Regi.pdf')"
   ]
  }
 ],
 "metadata": {
  "kernelspec": {
   "display_name": "Python 3.9.10 64-bit",
   "language": "python",
   "name": "python3"
  },
  "language_info": {
   "codemirror_mode": {
    "name": "ipython",
    "version": 3
   },
   "file_extension": ".py",
   "mimetype": "text/x-python",
   "name": "python",
   "nbconvert_exporter": "python",
   "pygments_lexer": "ipython3",
   "version": "3.9.10"
  },
  "orig_nbformat": 4,
  "vscode": {
   "interpreter": {
    "hash": "e2aae14933474253bf7e204dfdcd59c9e221c3358c06c5af46c0ae09e251b4f0"
   }
  }
 },
 "nbformat": 4,
 "nbformat_minor": 2
}
