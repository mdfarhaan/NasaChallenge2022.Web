{
 "cells": [
  {
   "cell_type": "code",
   "execution_count": 1,
   "metadata": {},
   "outputs": [],
   "source": [
    "import PyPDF2\n",
    "f =  open('./Active-referral-plus-a-small-financial-incentive-upon-c_2021_The-Lancet-Regi.pdf','rb')\n",
    "fileReader = PyPDF2.PdfReader(f)"
   ]
  },
  {
   "cell_type": "code",
   "execution_count": 2,
   "metadata": {},
   "outputs": [
    {
     "data": {
      "text/plain": [
       "9"
      ]
     },
     "execution_count": 2,
     "metadata": {},
     "output_type": "execute_result"
    }
   ],
   "source": [
    "fileReader.numPages"
   ]
  },
  {
   "cell_type": "code",
   "execution_count": 9,
   "metadata": {},
   "outputs": [],
   "source": [
    "extracted  = fileReader.pages[0].extract_text()"
   ]
  },
  {
   "cell_type": "code",
   "execution_count": 10,
   "metadata": {},
   "outputs": [
    {
     "name": "stdout",
     "output_type": "stream",
     "text": [
      "The Lancet Regional  Health - Western Paciﬁc 13 (2021) 100189 \n",
      "Contents  lists available  at ScienceDirect  \n",
      "The Lancet  Regional  Health  - Western  Paciﬁc  \n",
      "journal  homepage:  www.elsevier.com/locate/lanwpc  \n",
      "Research  Paper \n",
      "Active  referral  plus  a small  ﬁnancial  incentive  upon  cessation  services  \n",
      "use on smoking  abstinence:  a community-based,  cluster-randomised  \n",
      "controlled  trial  \n",
      "Xue Weng,  PhD 1 , Yongda  Wu, PhD 1 , Tzu Tsun Luk, PhD 1 , William  Ho Cheung  Li, PhD 1 , \n",
      "Derek  Yee Tak Cheung,  PhD 1 , Henry  Sau Chai Tong,  BBA 2 , Vienna  Lai, MPH 2 , \n",
      "Tai Hing Lam, MD 3 , Man Ping Wang,  PhD 1 , ∗\n",
      "1 School of Nursing, the University  of Hong Kong, Hong Kong SAR, China \n",
      "2 Hong Kong Council on Smoking and Health, Hong Kong SAR, China \n",
      "3 School of Public Health, the University  of Hong Kong, Hong Kong SAR, China \n",
      "a r t i c l e i n f o \n",
      "Article history: \n",
      "Received  7 January 2021 \n",
      "Revised 19 May 2021 \n",
      "Accepted  27 May 2021 \n",
      "Available  online 5 July 2021 \n",
      "Keywords:  \n",
      "smoking  cessation  \n",
      "service use \n",
      "ﬁnancial  incentives  \n",
      "active referral \n",
      "community  \n",
      "smoker \n",
      "Chinese a b s t r a c t \n",
      "Background:  Many smokers  do not use existing  free or low-cost  smoking  cessation  services,  cost-effective  \n",
      "interventions  to increase  use are needed.  \n",
      "Methods:  We did a 2-armed  cluster randomised  controlled  trial (cRCT) in Hong Kong, China, to evaluate  \n",
      "the effectiveness  of active referral plus a small ﬁnancial  incentive  on abstinence.  Chinese  adult smokers  \n",
      "who smoked  at least 1 cigarette  per day were proactively  recruited  from 70 community  sites (clusters).  \n",
      "Random  allocation  was concealed  until the recruitment  started. The intervention  group received  an offer \n",
      "of active referral to cessation  services  at baseline  plus an incentive  (HK$300/US$38)  after using any ces- \n",
      "sation services  within 3 months.  The control group received  general brief cessation  advice. The primary  \n",
      "outcomes  were biochemically  validated  abstinence  at 3 and 6 months.  Operating  costs in real-world  im- \n",
      "plementation  was calculated.  Trial Registry:  ClinicalTrials.gov  NCT03565796  . \n",
      "Findings:  Between  June and September  2018, 1093 participants  were randomly  assigned  to the interven-  \n",
      "tion (n = 563) and control (n = 530) groups. By intention-to-treat,  the intervention  group showed  higher \n",
      "validated  abstinence  than the control group at 3 months  (8.4% vs. 4.5%, risk ratio [RR] 1.88, 95% CI 1.01- \n",
      "3.51, P = 0.046) and 6 months  (7.5% vs. 4.5%, RR 1.72, 95% CI 1.01-2.93,  P = 0.046). Average  cost per validated  \n",
      "abstinence  was lower in the intervention  (US$ 421) than control (US$ 548) group. \n",
      "Interpretation:  This cRCT has ﬁrst shown that a simple, brief, and low-cost  intervention  with active refer- \n",
      "ral plus a small monetary  incentive  was effective  in increasing  smoking  abstinence  and smoking  cessation  \n",
      "service use in community  smokers.  \n",
      "Funding:  Hong Kong Council on Smoking  and Health. \n",
      "©2 0 2 1 The Author(s).  Published  by Elsevier  Ltd. \n",
      "This is an open access article under the CC BY-NC-ND  license \n",
      "( http://creativecommons.org/licenses/by-nc-nd/4.0/  ) \n",
      "∗Corresponding  author : Man Ping Wang, PhD, School of Nursing, The University  \n",
      "of Hong Kong, 21 Sassoon Road, Pokfulam,  Hong Kong SAR, China \n",
      "E-mail address: mpwang@hku.hk  (M.P. Wang). \n",
      "https://doi.org/10.1016/j.lanwpc.2021.100189  \n",
      "2666-6065/© 2021 The Author(s). Published by Elsevier Ltd. This is an open access article under the CC BY-NC-ND license  \n",
      "( http://creativecommons.org/licenses/by-nc-nd/4.0/  ) \n"
     ]
    }
   ],
   "source": [
    "print(extracted)"
   ]
  },
  {
   "cell_type": "code",
   "execution_count": null,
   "metadata": {},
   "outputs": [],
   "source": []
  }
 ],
 "metadata": {
  "kernelspec": {
   "display_name": "Python 3.9.10 64-bit",
   "language": "python",
   "name": "python3"
  },
  "language_info": {
   "codemirror_mode": {
    "name": "ipython",
    "version": 3
   },
   "file_extension": ".py",
   "mimetype": "text/x-python",
   "name": "python",
   "nbconvert_exporter": "python",
   "pygments_lexer": "ipython3",
   "version": "3.9.10"
  },
  "orig_nbformat": 4,
  "vscode": {
   "interpreter": {
    "hash": "e2aae14933474253bf7e204dfdcd59c9e221c3358c06c5af46c0ae09e251b4f0"
   }
  }
 },
 "nbformat": 4,
 "nbformat_minor": 2
}
