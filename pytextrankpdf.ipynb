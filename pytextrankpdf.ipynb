{
 "cells": [
  {
   "cell_type": "code",
   "execution_count": 2,
   "metadata": {},
   "outputs": [],
   "source": [
    "import PyPDF2\n",
    "f = open('./NASA-test-pdf.pdf','rb')\n",
    "filereader = PyPDF2.PdfReader(f)"
   ]
  },
  {
   "cell_type": "code",
   "execution_count": 4,
   "metadata": {},
   "outputs": [
    {
     "name": "stdout",
     "output_type": "stream",
     "text": [
      "In 2019, Micr osoft announced its\n",
      "AI for Cultur al Heritage\n",
      "program, aiming t o preser ve\n",
      "and tr easur e people, places, and hist orical ar tifacts thr ough AI technology and\n",
      "collabor ation with cultur al nonpr oﬁt or ganizations.“\n",
      "“Preser ving cultur al heritage isn ’t something that is solely nice t o ha ve\n",
      "or nice t o do, it’ s sometimes imper ative to the well-being of the world’ s\n",
      "societies. ”\n",
      "— Brad Smith, President of Microsoft\n",
      "Accor ding t o Poonam Gandhi, a pr ofessor at\n",
      "Flame Univ ersity\n",
      ",\n",
      "cultur e and heritages\n",
      "shape human society and pr ovide a sense of identity .\n",
      "Speciﬁcally , cultur al heritage can\n",
      "\n"
     ]
    }
   ],
   "source": [
    "print(filereader.pages[3].extract_text())"
   ]
  },
  {
   "cell_type": "code",
   "execution_count": 5,
   "metadata": {},
   "outputs": [
    {
     "name": "stderr",
     "output_type": "stream",
     "text": [
      "d:\\PYTHON\\lib\\site-packages\\tqdm\\auto.py:22: TqdmWarning: IProgress not found. Please update jupyter and ipywidgets. See https://ipywidgets.readthedocs.io/en/stable/user_install.html\n",
      "  from .autonotebook import tqdm as notebook_tqdm\n"
     ]
    }
   ],
   "source": [
    "import spacy\n",
    "import pytextrank"
   ]
  },
  {
   "cell_type": "code",
   "execution_count": 6,
   "metadata": {},
   "outputs": [
    {
     "data": {
      "text/plain": [
       "<pytextrank.base.BaseTextRankFactory at 0x26ff30ba3a0>"
      ]
     },
     "execution_count": 6,
     "metadata": {},
     "output_type": "execute_result"
    }
   ],
   "source": [
    "nlp = spacy.load('en_core_web_sm')\n",
    "nlp.add_pipe('textrank')"
   ]
  },
  {
   "cell_type": "code",
   "execution_count": 9,
   "metadata": {},
   "outputs": [],
   "source": [
    "text = 'Machine learning is an exciting branch of Artificial Intelligence, and it’s all around us.\\nMachine learning brings out the power of data in new ways, such as Facebook suggesting articles in your feed. \\nThis amazing technology helps computer systems learn and improve from experience by developing computer programs that can automatically access data and perform tasks via predictions and detections.\\nAs you input more data into a machine, this helps the algorithms teach the computer, thus improving the delivered results.\\nWhen you ask Alexa to play your favorite music station on Amazon Echo, she will go to the station you played most often.\\nYou can further improve and refine your listening experience by telling Alexa to skip songs, adjust the volume, and many more possible commands.\\nMachine Learning and the rapid advance of Artificial Intelligence makes this all possible.\\nLet us start by answering the question - What is Machine Learning?\\nWhat is Machine Learning, Exactly?\\nFor starters, machine learning is a core sub-area of Artificial Intelligence (AI).\\nML applications learn from experience (or to be accurate, data) like humans do without direct programming.\\nWhen exposed to new data, these applications learn, grow, change, and develop by themselves. In other words, machine learning involves computers finding insightful information without being told where to look.\\nInstead, they do this by leveraging algorithms that learn from data in an iterative process.\\nThe concept of machine learning has been around for a long time (think of the World War II Enigma Machine, for example).\\nHowever, the idea of automating the application of complex mathematical calculations to big data has only been around for several years, though it’s now gaining more momentum.\\nAt a high level, machine learning is the ability to adapt to new data independently and through iterations.\\nApplications learn from previous computations and transactions and use “pattern recognition” to produce reliable and informed results.\\nNow that we understand what Machine Learning is, let us understand how it works.\\nHow Does Machine Learning Work?\\nMachine Learning is, undoubtedly, one of the most exciting subsets of Artificial Intelligence.\\nIt completes the task of learning from data with specific inputs to the machine.\\nIt’s important to understand what makes Machine Learning work and, thus, how it can be used in the future. \\nThe Machine Learning process starts with inputting training data into the selected algorithm.\\nTraining data being known or unknown data to develop the final Machine Learning algorithm.\\nThe type of training data input does impact the algorithm, and that concept will be covered further momentarily. \\nNew input data is fed into the machine learning algorithm to test whether the algorithm works correctly.\\nThe prediction and results are then checked against each other.\\nIf the prediction and results don’t match, the algorithm is re-trained multiple times until the data scientist gets the desired outcome.\\nThis enables the machine learning algorithm to continually learn on its own and produce the optimal answer, gradually increasing in accuracy over time.\\nThe next section discusses the three types of and use of machine learning.\\nWhat are the Different Types of Machine Learning?\\nMachine Learning is complex, which is why it has been divided into two primary areas, supervised learning and unsupervised learning.\\nEach one has a specific purpose and action, yielding results and utilizing various forms of data.\\nApproximately 70 percent of machine learning is supervised learning, while unsupervised learning accounts for anywhere from 10 to 20 percent.\\nThe remainder is taken up by reinforcement learning.'"
   ]
  },
  {
   "cell_type": "code",
   "execution_count": 24,
   "metadata": {},
   "outputs": [],
   "source": [
    "text =  filereader.pages[3].extract_text()"
   ]
  },
  {
   "cell_type": "code",
   "execution_count": 28,
   "metadata": {},
   "outputs": [],
   "source": [
    "textlist=[]\n",
    "for i in filereader.pages:\n",
    "    textlist.append(i.extract_text())"
   ]
  },
  {
   "cell_type": "code",
   "execution_count": 31,
   "metadata": {},
   "outputs": [],
   "source": [
    "joined = ' '.join(textlist)"
   ]
  },
  {
   "cell_type": "code",
   "execution_count": 34,
   "metadata": {},
   "outputs": [
    {
     "data": {
      "text/plain": [
       "174255"
      ]
     },
     "execution_count": 34,
     "metadata": {},
     "output_type": "execute_result"
    }
   ],
   "source": [
    "len(joined)"
   ]
  },
  {
   "cell_type": "code",
   "execution_count": 29,
   "metadata": {},
   "outputs": [],
   "source": [
    "doc = nlp(text)"
   ]
  },
  {
   "cell_type": "code",
   "execution_count": 26,
   "metadata": {},
   "outputs": [
    {
     "name": "stdout",
     "output_type": "stream",
     "text": [
      "[“\n",
      "“Preser ving cultur al heritage isn ’t something that is solely nice t o ha ve\n",
      "or, ”\n",
      "— Brad Smith, President of Microsoft\n",
      "Accor ding t o Poonam Gandhi, a pr ofessor at\n",
      "Flame Univ ersity\n",
      ",\n",
      "cultur e and heritages\n",
      "shape human society and pr ovide a sense of identity .\n",
      ", In 2019, Micr osoft announced its\n",
      "AI for Cultur al Heritage\n",
      "program, aiming t o preser ve\n",
      "and tr easur e people, places, and hist orical ar tifacts thr ough AI technology and\n",
      "collabor ation with cultur al nonpr oﬁt or ganizations., nice t o do, it’ s sometimes imper ative to the well-being of the world’ s\n",
      "societies.]\n"
     ]
    }
   ],
   "source": [
    "print(list(doc._.textrank.summary()))"
   ]
  },
  {
   "cell_type": "code",
   "execution_count": 27,
   "metadata": {},
   "outputs": [
    {
     "name": "stdout",
     "output_type": "stream",
     "text": [
      "“\n",
      "“Preser ving cultur al heritage isn ’t something that is solely nice t o ha ve\n",
      "or ”\n",
      "— Brad Smith, President of Microsoft\n",
      "Accor ding t o Poonam Gandhi, a pr ofessor at\n",
      "Flame Univ ersity\n",
      ",\n",
      "cultur e and heritages\n",
      "shape human society and pr ovide a sense of identity .\n",
      " In 2019, Micr osoft announced its\n",
      "AI for Cultur al Heritage\n",
      "program, aiming t o preser ve\n",
      "and tr easur e people, places, and hist orical ar tifacts thr ough AI technology and\n",
      "collabor ation with cultur al nonpr oﬁt or ganizations. nice t o do, it’ s sometimes imper ative to the well-being of the world’ s\n",
      "societies.\n"
     ]
    }
   ],
   "source": [
    "summ = list(doc._.textrank.summary())\n",
    "tostring = lambda sent : sent.text\n",
    "summary = list(map(tostring,summ))\n",
    "summary = ' '.join(summary)\n",
    "print(summary)"
   ]
  },
  {
   "cell_type": "code",
   "execution_count": 35,
   "metadata": {},
   "outputs": [],
   "source": [
    "doc2 = nlp(joined)"
   ]
  },
  {
   "cell_type": "code",
   "execution_count": 41,
   "metadata": {},
   "outputs": [
    {
     "name": "stdout",
     "output_type": "stream",
     "text": [
      "While cultural heritage preservation can have dif ferent\n",
      "manifestations, we are most concerned with archiving as the main\n",
      "preservation method for cultural heritage artifacts (say for voice/video\n",
      "materials where the storage medium itself is not be of real importance)\n",
      "as well as an auxiliary tool in preserving physical artifacts such as\n",
      "documents, buildings, crafts, and the likes. Europeana,\n",
      "Europe’s platform for digital cultural heritage, works with\n",
      "thousands of archives, libraries and museums across Europe to\n",
      "make cultural content easy to access, use and reuse. From 2014-2020, funds through\n",
      "Horizon 2020 towards digital cultural heritage have been around\n",
      "EUR 70 million in total and funding for these initiatives will likely\n",
      "continue with the launch of the next research and innovation\n",
      "programme, Horizon Europe.\n",
      " IFLA works closely with UNESCO and other digital preservation\n",
      "initiatives such as the International Council of Museums (ICOM),[[[20International Council on Monuments and Sites (ICOMOS)\n",
      "21and\n",
      "International Council on Archives (ICA)\n",
      "22in order\n",
      "to ensure that\n",
      "the library voice is heard and recognised as an important partner\n",
      "in the preservation of digital cultural heritage.\n"
     ]
    }
   ],
   "source": [
    "summ1 = list(doc2._.textrank.summary())\n",
    "tostring = lambda sent : sent.text\n",
    "summ1ary = list(map(tostring,summ1))\n",
    "summ1ary = ' '.join(summ1ary)\n",
    "print(summ1ary)"
   ]
  }
 ],
 "metadata": {
  "kernelspec": {
   "display_name": "Python 3.9.10 64-bit",
   "language": "python",
   "name": "python3"
  },
  "language_info": {
   "codemirror_mode": {
    "name": "ipython",
    "version": 3
   },
   "file_extension": ".py",
   "mimetype": "text/x-python",
   "name": "python",
   "nbconvert_exporter": "python",
   "pygments_lexer": "ipython3",
   "version": "3.9.10"
  },
  "orig_nbformat": 4,
  "vscode": {
   "interpreter": {
    "hash": "e2aae14933474253bf7e204dfdcd59c9e221c3358c06c5af46c0ae09e251b4f0"
   }
  }
 },
 "nbformat": 4,
 "nbformat_minor": 2
}
