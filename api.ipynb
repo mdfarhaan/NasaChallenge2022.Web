{
 "cells": [
  {
   "cell_type": "code",
   "execution_count": null,
   "metadata": {},
   "outputs": [],
   "source": [
    "# from fastapi import FastAPI\n",
    "# from pydantic import BaseModel\n",
    "\n",
    "# app = FastAPI()\n",
    "\n",
    "# class Item(BaseModel):\n",
    "#     url: str\n",
    "\n",
    "# def test(url):\n",
    "#     #insert AI Model\n",
    "#     return url\n",
    "\n",
    "# @app.post(\"/nlpmodel/\")\n",
    "# async def create_item(item: Item):\n",
    "#     return test(item.url)"
   ]
  },
  {
   "cell_type": "code",
   "execution_count": 1,
   "metadata": {},
   "outputs": [],
   "source": [
    "from fastapi import FastAPI\n",
    "from pydantic import BaseModel"
   ]
  },
  {
   "cell_type": "code",
   "execution_count": 2,
   "metadata": {},
   "outputs": [],
   "source": [
    "import fitz\n",
    "import io\n",
    "from PIL import Image\n",
    "import numpy as np\n",
    "import pytesseract"
   ]
  },
  {
   "cell_type": "code",
   "execution_count": 5,
   "metadata": {},
   "outputs": [],
   "source": [
    "import yake\n",
    "text=''"
   ]
  },
  {
   "cell_type": "code",
   "execution_count": 3,
   "metadata": {},
   "outputs": [
    {
     "name": "stderr",
     "output_type": "stream",
     "text": [
      "d:\\PYTHON\\lib\\site-packages\\tqdm\\auto.py:22: TqdmWarning: IProgress not found. Please update jupyter and ipywidgets. See https://ipywidgets.readthedocs.io/en/stable/user_install.html\n",
      "  from .autonotebook import tqdm as notebook_tqdm\n"
     ]
    }
   ],
   "source": [
    "import spacy\n",
    "import pytextrank"
   ]
  },
  {
   "cell_type": "code",
   "execution_count": 11,
   "metadata": {},
   "outputs": [],
   "source": [
    "import PyPDF2"
   ]
  },
  {
   "cell_type": "code",
   "execution_count": 7,
   "metadata": {},
   "outputs": [],
   "source": [
    "pytesseract.pytesseract.tesseract_cmd = 'D:/Tesseract-OCR'"
   ]
  },
  {
   "cell_type": "code",
   "execution_count": 3,
   "metadata": {},
   "outputs": [],
   "source": [
    "class Item(BaseModel):\n",
    "    url: str"
   ]
  },
  {
   "cell_type": "code",
   "execution_count": 2,
   "metadata": {},
   "outputs": [],
   "source": [
    "app = FastAPI()"
   ]
  },
  {
   "cell_type": "code",
   "execution_count": 8,
   "metadata": {},
   "outputs": [],
   "source": [
    "def getKeyWords(text):\n",
    "    language = \"en\"\n",
    "    max_ngram_size = 3\n",
    "    deduplication_threshold = 0.9\n",
    "    deduplication_algo = 'seqm'\n",
    "    windowSize = 1\n",
    "    numOfKeywords = 20\n",
    "\n",
    "    custom_kw_extractor = yake.KeywordExtractor(lan=language, n=max_ngram_size, dedupLim=deduplication_threshold, dedupFunc=deduplication_algo, windowsSize=windowSize, top=numOfKeywords, features=None)\n",
    "    keywords = custom_kw_extractor.extract_keywords(text)\n",
    "    \n",
    "    return keywords"
   ]
  },
  {
   "cell_type": "code",
   "execution_count": 4,
   "metadata": {},
   "outputs": [],
   "source": [
    "def getimgdescptext(filename):\n",
    "    pdf_file = fitz.open(filename)\n",
    "    pdf_images = []\n",
    "    imgdescp=[]\n",
    "    nlp = spacy.load('en_core_web_sm')\n",
    "    nlp.add_pipe('textrank')\n",
    "    for page_ndex in range(len(pdf_file)):\n",
    "        page = pdf_file[page_ndex]\n",
    "        image_list= pdf_file.get_page_images(page_ndex)\n",
    "        if image_list:\n",
    "            # tottext = page.extract_text()\n",
    "            \n",
    "            doc = nlp(page.extract_text())\n",
    "            for sent in doc.sents:\n",
    "                if 'figure' in sent.text.lower():\n",
    "                    imgdescp.append(sent.text)\n",
    "                if 'fig' in sent.text.lower():\n",
    "                    imgdescp.append(sent.text)\n",
    "                \n",
    "    return imgdescp\n",
    "                \n",
    "            "
   ]
  },
  {
   "cell_type": "code",
   "execution_count": 15,
   "metadata": {},
   "outputs": [],
   "source": [
    "def getImgDescp(filename):\n",
    "    pdf_file = fitz.open(filename)\n",
    "    pdf_image_list=[]\n",
    "    imgdescps=[]\n",
    "\n",
    "    for page_index in range(len(pdf_file)):\n",
    "    \n",
    "        page = pdf_file[page_index]\n",
    "        image_list = pdf_file.get_page_images(page_index)\n",
    "        if image_list:\n",
    "            pdf_image_list.append(image_list)\n",
    "            \n",
    "        for image_index, img in enumerate(pdf_file.get_page_images(page), start=1):\n",
    "            xref = img[0]\n",
    "            pix = fitz.Pixmap(pdf_file,xref)\n",
    "            piximg = Image.frombytes(\"RGB\", [pix.width, pix.height], pix.samples)\n",
    "            # piximgarr = np.array(pix)\n",
    "            decp=''\n",
    "            decp=pytesseract.image_to_string(piximg)\n",
    "            imgdescps.append(decp)\n",
    "            \n",
    "            \n",
    "    return imgdescps"
   ]
  },
  {
   "cell_type": "code",
   "execution_count": 12,
   "metadata": {},
   "outputs": [],
   "source": [
    "def getabstract(filereader):\n",
    "    fulltext = []\n",
    "    for i in filereader.pages:\n",
    "        fulltext+= [i.extract_text()]\n",
    "        currpage = i.extract_text().lower()\n",
    "        if 'abstract' in currpage:\n",
    "            abstract = currpage[currpage.find('abstract'):]\n",
    "            # print('abstrat',abstract)\n",
    "            return abstract\n",
    "        if 'a b s t r a c t' in currpage:\n",
    "            abstract = currpage[currpage.find('a b s t r a c t'):]\n",
    "            # print('abstract',abstract)\n",
    "            return abstract\n",
    "    \n",
    "    return ' '.join(fulltext[:4])"
   ]
  },
  {
   "cell_type": "code",
   "execution_count": 13,
   "metadata": {},
   "outputs": [],
   "source": [
    "def getsummary(text):\n",
    "    nlp = spacy.load('en_core_web_sm')\n",
    "    nlp.add_pipe('textrank')\n",
    "    doc = nlp(text)\n",
    "    summ1 = list(doc._.textrank.summary())\n",
    "    tostring = lambda sent:sent.text\n",
    "    summary = list(map(tostring,summ1))\n",
    "    summary = ' '.join(summary)\n",
    "    return summary"
   ]
  },
  {
   "cell_type": "code",
   "execution_count": 16,
   "metadata": {},
   "outputs": [],
   "source": [
    "def main(filename):\n",
    "    text=''\n",
    "    # filename=''\n",
    "    file = open(filename,'rb')\n",
    "    filereader = PyPDF2.PdfReader(file)\n",
    "    text = getabstract(filereader)\n",
    "    resp = {'summary':'','keywords':'',\"img_descp\":''}\n",
    "    resp['keywords'] = getKeyWords(text)\n",
    "    resp['summary']= getsummary(text)\n",
    "    resp['img_descp'] = getImgDescp(filename)\n",
    "    return resp"
   ]
  },
  {
   "cell_type": "code",
   "execution_count": 17,
   "metadata": {},
   "outputs": [],
   "source": [
    "def test(url):\n",
    "    #insert AI Model\n",
    "    return url"
   ]
  },
  {
   "cell_type": "code",
   "execution_count": 5,
   "metadata": {},
   "outputs": [],
   "source": [
    "@app.post('/nlpmodel/')\n",
    "async def create_item(item: Item):\n",
    "    return test(item.url)"
   ]
  }
 ],
 "metadata": {
  "kernelspec": {
   "display_name": "Python 3.9.10 64-bit",
   "language": "python",
   "name": "python3"
  },
  "language_info": {
   "codemirror_mode": {
    "name": "ipython",
    "version": 3
   },
   "file_extension": ".py",
   "mimetype": "text/x-python",
   "name": "python",
   "nbconvert_exporter": "python",
   "pygments_lexer": "ipython3",
   "version": "3.9.10"
  },
  "orig_nbformat": 4,
  "vscode": {
   "interpreter": {
    "hash": "e2aae14933474253bf7e204dfdcd59c9e221c3358c06c5af46c0ae09e251b4f0"
   }
  }
 },
 "nbformat": 4,
 "nbformat_minor": 2
}
